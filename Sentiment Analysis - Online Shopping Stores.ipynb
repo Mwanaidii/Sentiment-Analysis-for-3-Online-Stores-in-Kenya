{
 "cells": [
  {
   "cell_type": "markdown",
   "id": "4e32c2f6",
   "metadata": {},
   "source": [
    "#### Introduction: Sentiment Analysis of Online Stores in Kenya\n",
    "\n",
    "The rapid expansion of e-commerce in Kenya has seen platforms like Jumia, Kilimall, and Jiji dominate the online shopping landscape, offering consumers unprecedented convenience. As competition intensifies and customer expectations continue to rise, it becomes increasingly important for online platforms to not only attract customers but also retain their loyalty by delivering exceptional experiences. To remain competitive, these platforms must continuously refine their offerings based on user feedback. This project leverages **sentiment analysis** of customer reviews from popular Kenyan e-commerce sites to extract valuable insights into consumer perceptions. The primary goal is to inform the development of a new e-commerce app, \"X,\" by identifying strengths, weaknesses, and opportunities for enhancement within the current market.\n",
    "\n",
    "By analyzing patterns in sentiment, we aim to pinpoint the aspects of existing platforms that resonate most with users, as well as highlight common frustrations and areas in need of improvement. This research will compare the sentiment scores of various platforms to determine which has better customer reviews, thereby providing actionable insights for the new app's development team. The findings will enable \"App X\" to strategically adopt best practices from established competitors while avoiding pitfalls, ultimately helping developers create a user-centric platform optimized for the Kenyan market. These data-driven insights will empower the team to prioritize features that align with consumer preferences, fostering a competitive edge in the evolving e-commerce landscape.\n",
    "\n",
    "###### Key Questions Our Analysis Aims to Answer:\n",
    "\n",
    "1. Which online store (Jumia, Kilimall, or Jiji) has the highest positive sentiment from customers based on recent reviews?\n",
    "2. What are the common pain points or negative experiences reported by users across these platforms?\n",
    "3. Which features or aspects of online shopping do customers most frequently praise on each platform?\n",
    "4. What actionable insights can be drawn to enhance the functionality and user experience of the new app \"X\" based on customer feedback from existing platforms? \n",
    "\n",
    "These questions will guide the analysis to ensure that the new app \"X\" is optimized for customer needs and stands out in the competitive online shopping market in Kenya.\n",
    "\n"
   ]
  },
  {
   "cell_type": "code",
   "execution_count": 24,
   "id": "6a18ac41",
   "metadata": {},
   "outputs": [
    {
     "name": "stdout",
     "output_type": "stream",
     "text": [
      "Requirement already satisfied: google_play_scraper in c:\\users\\hp\\anaconda3\\lib\\site-packages (1.2.7)\n"
     ]
    }
   ],
   "source": [
    "!pip install google_play_scraper\n"
   ]
  },
  {
   "cell_type": "code",
   "execution_count": 37,
   "id": "4a26f9db",
   "metadata": {},
   "outputs": [
    {
     "name": "stdout",
     "output_type": "stream",
     "text": [
      "Requirement already satisfied: emoji in c:\\users\\hp\\anaconda3\\lib\\site-packages (2.14.0)\n",
      "Requirement already satisfied: wordcloud in c:\\users\\hp\\anaconda3\\lib\\site-packages (1.9.4)\n",
      "Requirement already satisfied: pillow in c:\\users\\hp\\anaconda3\\lib\\site-packages (from wordcloud) (9.4.0)\n",
      "Requirement already satisfied: numpy>=1.6.1 in c:\\users\\hp\\anaconda3\\lib\\site-packages (from wordcloud) (1.23.5)\n",
      "Requirement already satisfied: matplotlib in c:\\users\\hp\\anaconda3\\lib\\site-packages (from wordcloud) (3.7.0)\n",
      "Requirement already satisfied: fonttools>=4.22.0 in c:\\users\\hp\\anaconda3\\lib\\site-packages (from matplotlib->wordcloud) (4.25.0)\n",
      "Requirement already satisfied: packaging>=20.0 in c:\\users\\hp\\anaconda3\\lib\\site-packages (from matplotlib->wordcloud) (22.0)\n",
      "Requirement already satisfied: python-dateutil>=2.7 in c:\\users\\hp\\anaconda3\\lib\\site-packages (from matplotlib->wordcloud) (2.8.2)\n",
      "Requirement already satisfied: pyparsing>=2.3.1 in c:\\users\\hp\\anaconda3\\lib\\site-packages (from matplotlib->wordcloud) (3.0.9)\n",
      "Requirement already satisfied: kiwisolver>=1.0.1 in c:\\users\\hp\\anaconda3\\lib\\site-packages (from matplotlib->wordcloud) (1.4.4)\n",
      "Requirement already satisfied: contourpy>=1.0.1 in c:\\users\\hp\\anaconda3\\lib\\site-packages (from matplotlib->wordcloud) (1.0.5)\n",
      "Requirement already satisfied: cycler>=0.10 in c:\\users\\hp\\anaconda3\\lib\\site-packages (from matplotlib->wordcloud) (0.11.0)\n",
      "Requirement already satisfied: six>=1.5 in c:\\users\\hp\\anaconda3\\lib\\site-packages (from python-dateutil>=2.7->matplotlib->wordcloud) (1.16.0)\n",
      "Requirement already satisfied: TextBlob in c:\\users\\hp\\anaconda3\\lib\\site-packages (0.18.0.post0)\n",
      "Requirement already satisfied: nltk>=3.8 in c:\\users\\hp\\anaconda3\\lib\\site-packages (from TextBlob) (3.9.1)\n",
      "Requirement already satisfied: tqdm in c:\\users\\hp\\anaconda3\\lib\\site-packages (from nltk>=3.8->TextBlob) (4.64.1)\n",
      "Requirement already satisfied: regex>=2021.8.3 in c:\\users\\hp\\anaconda3\\lib\\site-packages (from nltk>=3.8->TextBlob) (2022.7.9)\n",
      "Requirement already satisfied: joblib in c:\\users\\hp\\anaconda3\\lib\\site-packages (from nltk>=3.8->TextBlob) (1.1.1)\n",
      "Requirement already satisfied: click in c:\\users\\hp\\anaconda3\\lib\\site-packages (from nltk>=3.8->TextBlob) (8.0.4)\n",
      "Requirement already satisfied: colorama in c:\\users\\hp\\anaconda3\\lib\\site-packages (from click->nltk>=3.8->TextBlob) (0.4.6)\n"
     ]
    }
   ],
   "source": [
    "!pip install emoji\n",
    "!pip install wordcloud\n",
    "!pip install TextBlob\n",
    "\n",
    "## We can use libraries like NLTK, Gensim, TextBlob, spaCY, CoreNLP for data pre-processing and sentiment analysis. \n",
    "## We will use NLTK for pre-processing of data and TextBlob to calculate sentiment score (sentiment polarity and subjectivity )."
   ]
  },
  {
   "cell_type": "code",
   "execution_count": 3,
   "id": "8b18610d",
   "metadata": {},
   "outputs": [],
   "source": [
    "# importing important libraries\n",
    "from google_play_scraper import Sort, reviews_all, reviews, app\n",
    "import pandas as pd\n",
    "import numpy as np\n",
    "import json\n",
    "import matplotlib.pyplot as plt\n",
    "import seaborn as sns\n",
    "import string\n",
    "import emoji\n",
    "import re\n",
    "import nltk\n",
    "from nltk.stem import PorterStemmer\n",
    "from nltk.corpus import stopwords\n",
    "from wordcloud import WordCloud, STOPWORDS\n",
    "from textblob import TextBlob\n",
    "from nltk import word_tokenize, sent_tokenize"
   ]
  },
  {
   "cell_type": "markdown",
   "id": "209ed4de",
   "metadata": {},
   "source": [
    "#### Jumia Reviews Web Scrapping, Data Importation and data description\n",
    "\n",
    "##### 1.Jumia Web scrapping\n"
   ]
  },
  {
   "cell_type": "code",
   "execution_count": 4,
   "id": "5aa062ec",
   "metadata": {},
   "outputs": [],
   "source": [
    "#scrap Jumia reviews\n",
    "Jumia, continuation_token = reviews(\n",
    "    'com.jumia.android',\n",
    "    sort = Sort.MOST_RELEVANT, # sort using at( date and time)\n",
    "    filter_score_with = None\n",
    "    )"
   ]
  },
  {
   "cell_type": "markdown",
   "id": "7a3098b8",
   "metadata": {},
   "source": [
    "##### 2. Jumia Data Import\n",
    "Converting Jumia scrapped data to Data Frame(Structured data) for our analysis."
   ]
  },
  {
   "cell_type": "code",
   "execution_count": 5,
   "id": "bd74baa1",
   "metadata": {},
   "outputs": [
    {
     "data": {
      "text/html": [
       "<div>\n",
       "<style scoped>\n",
       "    .dataframe tbody tr th:only-of-type {\n",
       "        vertical-align: middle;\n",
       "    }\n",
       "\n",
       "    .dataframe tbody tr th {\n",
       "        vertical-align: top;\n",
       "    }\n",
       "\n",
       "    .dataframe thead th {\n",
       "        text-align: right;\n",
       "    }\n",
       "</style>\n",
       "<table border=\"1\" class=\"dataframe\">\n",
       "  <thead>\n",
       "    <tr style=\"text-align: right;\">\n",
       "      <th></th>\n",
       "      <th>reviewId</th>\n",
       "      <th>userName</th>\n",
       "      <th>userImage</th>\n",
       "      <th>content</th>\n",
       "      <th>score</th>\n",
       "      <th>thumbsUpCount</th>\n",
       "      <th>reviewCreatedVersion</th>\n",
       "      <th>at</th>\n",
       "      <th>replyContent</th>\n",
       "      <th>repliedAt</th>\n",
       "      <th>appVersion</th>\n",
       "    </tr>\n",
       "  </thead>\n",
       "  <tbody>\n",
       "    <tr>\n",
       "      <th>0</th>\n",
       "      <td>4b5b0a4a-9b35-401f-a2ca-9b6e489b2b37</td>\n",
       "      <td>Eli Bigman</td>\n",
       "      <td>https://play-lh.googleusercontent.com/a-/ALV-U...</td>\n",
       "      <td>I love the recent update! The price filter adj...</td>\n",
       "      <td>4</td>\n",
       "      <td>38</td>\n",
       "      <td>14.17.0</td>\n",
       "      <td>2024-06-11 17:50:55</td>\n",
       "      <td>Hello Richard! Thank you so much for taking th...</td>\n",
       "      <td>2021-07-23 16:05:08</td>\n",
       "      <td>14.17.0</td>\n",
       "    </tr>\n",
       "    <tr>\n",
       "      <th>1</th>\n",
       "      <td>cc7f01e9-4695-4953-8d58-ef0f0eb7679f</td>\n",
       "      <td>Olawande Adebayo</td>\n",
       "      <td>https://play-lh.googleusercontent.com/a-/ALV-U...</td>\n",
       "      <td>It's an easy to use app with just one challeng...</td>\n",
       "      <td>4</td>\n",
       "      <td>5</td>\n",
       "      <td>7.6</td>\n",
       "      <td>2021-11-03 12:45:20</td>\n",
       "      <td>Thank you , dear Adebayo ^^</td>\n",
       "      <td>2018-02-13 17:03:12</td>\n",
       "      <td>7.6</td>\n",
       "    </tr>\n",
       "    <tr>\n",
       "      <th>2</th>\n",
       "      <td>d367c2b9-f07f-4664-aaac-a514fc5c9548</td>\n",
       "      <td>PablAnu Coats</td>\n",
       "      <td>https://play-lh.googleusercontent.com/a-/ALV-U...</td>\n",
       "      <td>Very helpful, can find a lot of items. But som...</td>\n",
       "      <td>4</td>\n",
       "      <td>204</td>\n",
       "      <td>14.14.0</td>\n",
       "      <td>2024-05-02 10:24:39</td>\n",
       "      <td>Thank you so much ! We're trying our best to m...</td>\n",
       "      <td>2024-05-03 13:38:52</td>\n",
       "      <td>14.14.0</td>\n",
       "    </tr>\n",
       "    <tr>\n",
       "      <th>3</th>\n",
       "      <td>45f658e3-05c1-4fa5-af89-cda582038d76</td>\n",
       "      <td>SUKA Philip-Emuekpere</td>\n",
       "      <td>https://play-lh.googleusercontent.com/a-/ALV-U...</td>\n",
       "      <td>I’ve used the Jumia app for years, but recentl...</td>\n",
       "      <td>2</td>\n",
       "      <td>5</td>\n",
       "      <td>16.6.1</td>\n",
       "      <td>2024-11-16 00:43:19</td>\n",
       "      <td>We understand this can be frustrating. We are ...</td>\n",
       "      <td>2024-11-17 02:32:46</td>\n",
       "      <td>16.6.1</td>\n",
       "    </tr>\n",
       "    <tr>\n",
       "      <th>4</th>\n",
       "      <td>89b0cb74-43a8-4853-b727-9eb7b22dcbcd</td>\n",
       "      <td>Kelly Kells</td>\n",
       "      <td>https://play-lh.googleusercontent.com/a-/ALV-U...</td>\n",
       "      <td>Your app keeps writing network failure all the...</td>\n",
       "      <td>1</td>\n",
       "      <td>1</td>\n",
       "      <td>16.6.1</td>\n",
       "      <td>2024-11-19 09:54:06</td>\n",
       "      <td>None</td>\n",
       "      <td>NaT</td>\n",
       "      <td>16.6.1</td>\n",
       "    </tr>\n",
       "  </tbody>\n",
       "</table>\n",
       "</div>"
      ],
      "text/plain": [
       "                               reviewId               userName  \\\n",
       "0  4b5b0a4a-9b35-401f-a2ca-9b6e489b2b37             Eli Bigman   \n",
       "1  cc7f01e9-4695-4953-8d58-ef0f0eb7679f       Olawande Adebayo   \n",
       "2  d367c2b9-f07f-4664-aaac-a514fc5c9548          PablAnu Coats   \n",
       "3  45f658e3-05c1-4fa5-af89-cda582038d76  SUKA Philip-Emuekpere   \n",
       "4  89b0cb74-43a8-4853-b727-9eb7b22dcbcd            Kelly Kells   \n",
       "\n",
       "                                           userImage  \\\n",
       "0  https://play-lh.googleusercontent.com/a-/ALV-U...   \n",
       "1  https://play-lh.googleusercontent.com/a-/ALV-U...   \n",
       "2  https://play-lh.googleusercontent.com/a-/ALV-U...   \n",
       "3  https://play-lh.googleusercontent.com/a-/ALV-U...   \n",
       "4  https://play-lh.googleusercontent.com/a-/ALV-U...   \n",
       "\n",
       "                                             content  score  thumbsUpCount  \\\n",
       "0  I love the recent update! The price filter adj...      4             38   \n",
       "1  It's an easy to use app with just one challeng...      4              5   \n",
       "2  Very helpful, can find a lot of items. But som...      4            204   \n",
       "3  I’ve used the Jumia app for years, but recentl...      2              5   \n",
       "4  Your app keeps writing network failure all the...      1              1   \n",
       "\n",
       "  reviewCreatedVersion                  at  \\\n",
       "0              14.17.0 2024-06-11 17:50:55   \n",
       "1                  7.6 2021-11-03 12:45:20   \n",
       "2              14.14.0 2024-05-02 10:24:39   \n",
       "3               16.6.1 2024-11-16 00:43:19   \n",
       "4               16.6.1 2024-11-19 09:54:06   \n",
       "\n",
       "                                        replyContent           repliedAt  \\\n",
       "0  Hello Richard! Thank you so much for taking th... 2021-07-23 16:05:08   \n",
       "1                        Thank you , dear Adebayo ^^ 2018-02-13 17:03:12   \n",
       "2  Thank you so much ! We're trying our best to m... 2024-05-03 13:38:52   \n",
       "3  We understand this can be frustrating. We are ... 2024-11-17 02:32:46   \n",
       "4                                               None                 NaT   \n",
       "\n",
       "  appVersion  \n",
       "0    14.17.0  \n",
       "1        7.6  \n",
       "2    14.14.0  \n",
       "3     16.6.1  \n",
       "4     16.6.1  "
      ]
     },
     "execution_count": 5,
     "metadata": {},
     "output_type": "execute_result"
    }
   ],
   "source": [
    "#Convert into a data frame\n",
    "\n",
    "Jumia_rawdata = pd.DataFrame(np.array(Jumia), columns = ['review'])\n",
    "Jumia_rawdata = Jumia_rawdata.join(pd.DataFrame(Jumia_rawdata.pop('review').tolist()))\n",
    "Jumia_rawdata.head()\n",
    "     "
   ]
  },
  {
   "cell_type": "code",
   "execution_count": 10,
   "id": "abb759f7",
   "metadata": {},
   "outputs": [
    {
     "data": {
      "text/html": [
       "<div>\n",
       "<style scoped>\n",
       "    .dataframe tbody tr th:only-of-type {\n",
       "        vertical-align: middle;\n",
       "    }\n",
       "\n",
       "    .dataframe tbody tr th {\n",
       "        vertical-align: top;\n",
       "    }\n",
       "\n",
       "    .dataframe thead th {\n",
       "        text-align: right;\n",
       "    }\n",
       "</style>\n",
       "<table border=\"1\" class=\"dataframe\">\n",
       "  <thead>\n",
       "    <tr style=\"text-align: right;\">\n",
       "      <th></th>\n",
       "      <th>reviewId</th>\n",
       "      <th>userName</th>\n",
       "      <th>userImage</th>\n",
       "      <th>content</th>\n",
       "      <th>score</th>\n",
       "      <th>thumbsUpCount</th>\n",
       "      <th>reviewCreatedVersion</th>\n",
       "      <th>Review_timestamp</th>\n",
       "      <th>replyContent</th>\n",
       "      <th>repliedAt</th>\n",
       "      <th>appVersion</th>\n",
       "    </tr>\n",
       "  </thead>\n",
       "  <tbody>\n",
       "    <tr>\n",
       "      <th>0</th>\n",
       "      <td>4b5b0a4a-9b35-401f-a2ca-9b6e489b2b37</td>\n",
       "      <td>Eli Bigman</td>\n",
       "      <td>https://play-lh.googleusercontent.com/a-/ALV-U...</td>\n",
       "      <td>I love the recent update! The price filter adj...</td>\n",
       "      <td>4</td>\n",
       "      <td>38</td>\n",
       "      <td>14.17.0</td>\n",
       "      <td>2024-06-11 17:50:55</td>\n",
       "      <td>Hello Richard! Thank you so much for taking th...</td>\n",
       "      <td>2021-07-23 16:05:08</td>\n",
       "      <td>14.17.0</td>\n",
       "    </tr>\n",
       "    <tr>\n",
       "      <th>1</th>\n",
       "      <td>cc7f01e9-4695-4953-8d58-ef0f0eb7679f</td>\n",
       "      <td>Olawande Adebayo</td>\n",
       "      <td>https://play-lh.googleusercontent.com/a-/ALV-U...</td>\n",
       "      <td>It's an easy to use app with just one challeng...</td>\n",
       "      <td>4</td>\n",
       "      <td>5</td>\n",
       "      <td>7.6</td>\n",
       "      <td>2021-11-03 12:45:20</td>\n",
       "      <td>Thank you , dear Adebayo ^^</td>\n",
       "      <td>2018-02-13 17:03:12</td>\n",
       "      <td>7.6</td>\n",
       "    </tr>\n",
       "    <tr>\n",
       "      <th>2</th>\n",
       "      <td>d367c2b9-f07f-4664-aaac-a514fc5c9548</td>\n",
       "      <td>PablAnu Coats</td>\n",
       "      <td>https://play-lh.googleusercontent.com/a-/ALV-U...</td>\n",
       "      <td>Very helpful, can find a lot of items. But som...</td>\n",
       "      <td>4</td>\n",
       "      <td>204</td>\n",
       "      <td>14.14.0</td>\n",
       "      <td>2024-05-02 10:24:39</td>\n",
       "      <td>Thank you so much ! We're trying our best to m...</td>\n",
       "      <td>2024-05-03 13:38:52</td>\n",
       "      <td>14.14.0</td>\n",
       "    </tr>\n",
       "    <tr>\n",
       "      <th>3</th>\n",
       "      <td>45f658e3-05c1-4fa5-af89-cda582038d76</td>\n",
       "      <td>SUKA Philip-Emuekpere</td>\n",
       "      <td>https://play-lh.googleusercontent.com/a-/ALV-U...</td>\n",
       "      <td>I’ve used the Jumia app for years, but recentl...</td>\n",
       "      <td>2</td>\n",
       "      <td>5</td>\n",
       "      <td>16.6.1</td>\n",
       "      <td>2024-11-16 00:43:19</td>\n",
       "      <td>We understand this can be frustrating. We are ...</td>\n",
       "      <td>2024-11-17 02:32:46</td>\n",
       "      <td>16.6.1</td>\n",
       "    </tr>\n",
       "    <tr>\n",
       "      <th>4</th>\n",
       "      <td>89b0cb74-43a8-4853-b727-9eb7b22dcbcd</td>\n",
       "      <td>Kelly Kells</td>\n",
       "      <td>https://play-lh.googleusercontent.com/a-/ALV-U...</td>\n",
       "      <td>Your app keeps writing network failure all the...</td>\n",
       "      <td>1</td>\n",
       "      <td>1</td>\n",
       "      <td>16.6.1</td>\n",
       "      <td>2024-11-19 09:54:06</td>\n",
       "      <td>None</td>\n",
       "      <td>NaT</td>\n",
       "      <td>16.6.1</td>\n",
       "    </tr>\n",
       "  </tbody>\n",
       "</table>\n",
       "</div>"
      ],
      "text/plain": [
       "                               reviewId               userName  \\\n",
       "0  4b5b0a4a-9b35-401f-a2ca-9b6e489b2b37             Eli Bigman   \n",
       "1  cc7f01e9-4695-4953-8d58-ef0f0eb7679f       Olawande Adebayo   \n",
       "2  d367c2b9-f07f-4664-aaac-a514fc5c9548          PablAnu Coats   \n",
       "3  45f658e3-05c1-4fa5-af89-cda582038d76  SUKA Philip-Emuekpere   \n",
       "4  89b0cb74-43a8-4853-b727-9eb7b22dcbcd            Kelly Kells   \n",
       "\n",
       "                                           userImage  \\\n",
       "0  https://play-lh.googleusercontent.com/a-/ALV-U...   \n",
       "1  https://play-lh.googleusercontent.com/a-/ALV-U...   \n",
       "2  https://play-lh.googleusercontent.com/a-/ALV-U...   \n",
       "3  https://play-lh.googleusercontent.com/a-/ALV-U...   \n",
       "4  https://play-lh.googleusercontent.com/a-/ALV-U...   \n",
       "\n",
       "                                             content  score  thumbsUpCount  \\\n",
       "0  I love the recent update! The price filter adj...      4             38   \n",
       "1  It's an easy to use app with just one challeng...      4              5   \n",
       "2  Very helpful, can find a lot of items. But som...      4            204   \n",
       "3  I’ve used the Jumia app for years, but recentl...      2              5   \n",
       "4  Your app keeps writing network failure all the...      1              1   \n",
       "\n",
       "  reviewCreatedVersion    Review_timestamp  \\\n",
       "0              14.17.0 2024-06-11 17:50:55   \n",
       "1                  7.6 2021-11-03 12:45:20   \n",
       "2              14.14.0 2024-05-02 10:24:39   \n",
       "3               16.6.1 2024-11-16 00:43:19   \n",
       "4               16.6.1 2024-11-19 09:54:06   \n",
       "\n",
       "                                        replyContent           repliedAt  \\\n",
       "0  Hello Richard! Thank you so much for taking th... 2021-07-23 16:05:08   \n",
       "1                        Thank you , dear Adebayo ^^ 2018-02-13 17:03:12   \n",
       "2  Thank you so much ! We're trying our best to m... 2024-05-03 13:38:52   \n",
       "3  We understand this can be frustrating. We are ... 2024-11-17 02:32:46   \n",
       "4                                               None                 NaT   \n",
       "\n",
       "  appVersion  \n",
       "0    14.17.0  \n",
       "1        7.6  \n",
       "2    14.14.0  \n",
       "3     16.6.1  \n",
       "4     16.6.1  "
      ]
     },
     "execution_count": 10,
     "metadata": {},
     "output_type": "execute_result"
    }
   ],
   "source": [
    "# renaming the at column\n",
    "Jumia_data = pd.DataFrame(Jumia_rawdata)  # Creating a DataFrame\n",
    "Jumia_data.rename(columns={'at': 'Review_timestamp'}, inplace=True)\n",
    "Jumia_data.head()"
   ]
  },
  {
   "cell_type": "markdown",
   "id": "1ac41f8b",
   "metadata": {},
   "source": [
    "##### 3. Jumia Data Description"
   ]
  },
  {
   "cell_type": "code",
   "execution_count": 11,
   "id": "bf6e9d40",
   "metadata": {},
   "outputs": [
    {
     "name": "stdout",
     "output_type": "stream",
     "text": [
      "(100, 11)\n",
      "<class 'pandas.core.frame.DataFrame'>\n",
      "RangeIndex: 100 entries, 0 to 99\n",
      "Data columns (total 11 columns):\n",
      " #   Column                Non-Null Count  Dtype         \n",
      "---  ------                --------------  -----         \n",
      " 0   reviewId              100 non-null    object        \n",
      " 1   userName              100 non-null    object        \n",
      " 2   userImage             100 non-null    object        \n",
      " 3   content               100 non-null    object        \n",
      " 4   score                 100 non-null    int64         \n",
      " 5   thumbsUpCount         100 non-null    int64         \n",
      " 6   reviewCreatedVersion  100 non-null    object        \n",
      " 7   Review_timestamp      100 non-null    datetime64[ns]\n",
      " 8   replyContent          89 non-null     object        \n",
      " 9   repliedAt             89 non-null     datetime64[ns]\n",
      " 10  appVersion            100 non-null    object        \n",
      "dtypes: datetime64[ns](2), int64(2), object(7)\n",
      "memory usage: 8.7+ KB\n"
     ]
    },
    {
     "data": {
      "text/plain": [
       "100"
      ]
     },
     "execution_count": 11,
     "metadata": {},
     "output_type": "execute_result"
    }
   ],
   "source": [
    "# Data Description \n",
    "print(Jumia_data.shape)\n",
    "Jumia_data.info()\n",
    "\n",
    "len(Jumia_data.index) # checking the number of observations for our dataset"
   ]
  },
  {
   "cell_type": "markdown",
   "id": "509214e4",
   "metadata": {},
   "source": [
    "###### Some of the data is not nececessary for our analysis so we can extract only the columns that have useful information"
   ]
  },
  {
   "cell_type": "code",
   "execution_count": 15,
   "id": "302e7d06",
   "metadata": {},
   "outputs": [
    {
     "data": {
      "text/html": [
       "<div>\n",
       "<style scoped>\n",
       "    .dataframe tbody tr th:only-of-type {\n",
       "        vertical-align: middle;\n",
       "    }\n",
       "\n",
       "    .dataframe tbody tr th {\n",
       "        vertical-align: top;\n",
       "    }\n",
       "\n",
       "    .dataframe thead th {\n",
       "        text-align: right;\n",
       "    }\n",
       "</style>\n",
       "<table border=\"1\" class=\"dataframe\">\n",
       "  <thead>\n",
       "    <tr style=\"text-align: right;\">\n",
       "      <th></th>\n",
       "      <th>content</th>\n",
       "      <th>reviewCreatedVersion</th>\n",
       "      <th>score</th>\n",
       "      <th>Review_timestamp</th>\n",
       "      <th>thumbsUpCount</th>\n",
       "    </tr>\n",
       "  </thead>\n",
       "  <tbody>\n",
       "    <tr>\n",
       "      <th>12</th>\n",
       "      <td>The app is good for shopping and the tracking ...</td>\n",
       "      <td>16.6.1</td>\n",
       "      <td>2</td>\n",
       "      <td>2024-11-19 19:44:41</td>\n",
       "      <td>1</td>\n",
       "    </tr>\n",
       "    <tr>\n",
       "      <th>5</th>\n",
       "      <td>I had a terrible experience with Jumia. I orde...</td>\n",
       "      <td>16.6.1</td>\n",
       "      <td>1</td>\n",
       "      <td>2024-11-19 16:30:38</td>\n",
       "      <td>1</td>\n",
       "    </tr>\n",
       "    <tr>\n",
       "      <th>4</th>\n",
       "      <td>Your app keeps writing network failure all the...</td>\n",
       "      <td>16.6.1</td>\n",
       "      <td>1</td>\n",
       "      <td>2024-11-19 09:54:06</td>\n",
       "      <td>1</td>\n",
       "    </tr>\n",
       "    <tr>\n",
       "      <th>72</th>\n",
       "      <td>Worst app ever, I've been trying to sign up fo...</td>\n",
       "      <td>16.4.1</td>\n",
       "      <td>1</td>\n",
       "      <td>2024-11-19 09:11:48</td>\n",
       "      <td>0</td>\n",
       "    </tr>\n",
       "    <tr>\n",
       "      <th>87</th>\n",
       "      <td>Great app and all But of recent anytime I log ...</td>\n",
       "      <td>16.6.1</td>\n",
       "      <td>2</td>\n",
       "      <td>2024-11-18 17:12:05</td>\n",
       "      <td>0</td>\n",
       "    </tr>\n",
       "  </tbody>\n",
       "</table>\n",
       "</div>"
      ],
      "text/plain": [
       "                                              content reviewCreatedVersion  \\\n",
       "12  The app is good for shopping and the tracking ...               16.6.1   \n",
       "5   I had a terrible experience with Jumia. I orde...               16.6.1   \n",
       "4   Your app keeps writing network failure all the...               16.6.1   \n",
       "72  Worst app ever, I've been trying to sign up fo...               16.4.1   \n",
       "87  Great app and all But of recent anytime I log ...               16.6.1   \n",
       "\n",
       "    score    Review_timestamp  thumbsUpCount  \n",
       "12      2 2024-11-19 19:44:41              1  \n",
       "5       1 2024-11-19 16:30:38              1  \n",
       "4       1 2024-11-19 09:54:06              1  \n",
       "72      1 2024-11-19 09:11:48              0  \n",
       "87      2 2024-11-18 17:12:05              0  "
      ]
     },
     "execution_count": 15,
     "metadata": {},
     "output_type": "execute_result"
    }
   ],
   "source": [
    "# drop the unnecesarry columns before we can start the EDA(Exploratory Data Analysis)# drop the unnecesarry columns before we can start the EDA(Exploratory Data Analysis)\n",
    "# Compare App versions \n",
    "\n",
    "Jumia_data1 = Jumia_data[[\"content\",\"reviewCreatedVersion\",\"score\",\"Review_timestamp\",\"thumbsUpCount\"]]\n",
    "\n",
    "# arranging the data starting from the newest to oldest\n",
    "\n",
    "Jumia_pointsort_data = Jumia_data1.sort_values(by=\"Review_timestamp\", ascending= False) \n",
    "Jumia_pointsort_data.head() "
   ]
  },
  {
   "cell_type": "markdown",
   "id": "8d483e26",
   "metadata": {},
   "source": [
    "##### Kilimall Reviews Web Scrapping, Data Importation and data description\n",
    "##### 1.Kilimall Web scrapping"
   ]
  },
  {
   "cell_type": "code",
   "execution_count": 38,
   "id": "70bf0866",
   "metadata": {},
   "outputs": [],
   "source": [
    "Kilimall, continuation_token = reviews(\n",
    "    'net.kilimall.shop',\n",
    "    sort = Sort.MOST_RELEVANT,\n",
    "    count = 1000,\n",
    "    filter_score_with = None  \n",
    ")"
   ]
  },
  {
   "cell_type": "markdown",
   "id": "06198de7",
   "metadata": {},
   "source": [
    "##### 2. Kilimall Data Import\n",
    "Converting Kilimall scrapped data to Data Frame(Structured data) for our analysis."
   ]
  },
  {
   "cell_type": "code",
   "execution_count": 39,
   "id": "ef0e5de4",
   "metadata": {},
   "outputs": [
    {
     "data": {
      "text/html": [
       "<div>\n",
       "<style scoped>\n",
       "    .dataframe tbody tr th:only-of-type {\n",
       "        vertical-align: middle;\n",
       "    }\n",
       "\n",
       "    .dataframe tbody tr th {\n",
       "        vertical-align: top;\n",
       "    }\n",
       "\n",
       "    .dataframe thead th {\n",
       "        text-align: right;\n",
       "    }\n",
       "</style>\n",
       "<table border=\"1\" class=\"dataframe\">\n",
       "  <thead>\n",
       "    <tr style=\"text-align: right;\">\n",
       "      <th></th>\n",
       "      <th>reviewId</th>\n",
       "      <th>userName</th>\n",
       "      <th>userImage</th>\n",
       "      <th>content</th>\n",
       "      <th>score</th>\n",
       "      <th>thumbsUpCount</th>\n",
       "      <th>reviewCreatedVersion</th>\n",
       "      <th>at</th>\n",
       "      <th>replyContent</th>\n",
       "      <th>repliedAt</th>\n",
       "      <th>appVersion</th>\n",
       "    </tr>\n",
       "  </thead>\n",
       "  <tbody>\n",
       "    <tr>\n",
       "      <th>0</th>\n",
       "      <td>d29e53c2-8a8e-412c-96b1-8d755d284d61</td>\n",
       "      <td>OKOKO THEOPHILUS</td>\n",
       "      <td>https://play-lh.googleusercontent.com/a-/ALV-U...</td>\n",
       "      <td>my no.1 online shopping shop I’ve been using K...</td>\n",
       "      <td>5</td>\n",
       "      <td>30</td>\n",
       "      <td>5.6.1</td>\n",
       "      <td>2024-10-12 23:06:24</td>\n",
       "      <td>Hi Okoko, Thank you for shopping with us. We a...</td>\n",
       "      <td>2022-05-10 11:39:07</td>\n",
       "      <td>5.6.1</td>\n",
       "    </tr>\n",
       "    <tr>\n",
       "      <th>1</th>\n",
       "      <td>5e812d3a-310d-4055-946c-cae554bf524e</td>\n",
       "      <td>Samuel Sila</td>\n",
       "      <td>https://play-lh.googleusercontent.com/a-/ALV-U...</td>\n",
       "      <td>The platform is user-friendly, and the app wor...</td>\n",
       "      <td>5</td>\n",
       "      <td>0</td>\n",
       "      <td>5.6.2</td>\n",
       "      <td>2024-11-13 10:51:53</td>\n",
       "      <td>Dear customer, thank you for your feedback! We...</td>\n",
       "      <td>2024-11-14 06:43:01</td>\n",
       "      <td>5.6.2</td>\n",
       "    </tr>\n",
       "    <tr>\n",
       "      <th>2</th>\n",
       "      <td>e69e360d-d12f-4819-8533-9724de997ff7</td>\n",
       "      <td>enok lenkai</td>\n",
       "      <td>https://play-lh.googleusercontent.com/a-/ALV-U...</td>\n",
       "      <td>I really appreciate your customer service. I w...</td>\n",
       "      <td>5</td>\n",
       "      <td>0</td>\n",
       "      <td>5.6.2</td>\n",
       "      <td>2024-11-14 20:09:32</td>\n",
       "      <td>Dear customer,thanks you for shopping with us....</td>\n",
       "      <td>2024-11-19 06:18:00</td>\n",
       "      <td>5.6.2</td>\n",
       "    </tr>\n",
       "    <tr>\n",
       "      <th>3</th>\n",
       "      <td>511c86f7-f830-4b60-82fe-dd87a5ea6e28</td>\n",
       "      <td>Amina Mohammed</td>\n",
       "      <td>https://play-lh.googleusercontent.com/a-/ALV-U...</td>\n",
       "      <td>the best app that you can order things and the...</td>\n",
       "      <td>4</td>\n",
       "      <td>10</td>\n",
       "      <td>5.6.1</td>\n",
       "      <td>2024-09-26 16:15:46</td>\n",
       "      <td>Dear customer, good to know that you are havin...</td>\n",
       "      <td>2024-09-27 05:45:20</td>\n",
       "      <td>5.6.1</td>\n",
       "    </tr>\n",
       "    <tr>\n",
       "      <th>4</th>\n",
       "      <td>ff3823c8-ca56-4cc2-813e-72769136be0a</td>\n",
       "      <td>Florence Odhiambo</td>\n",
       "      <td>https://play-lh.googleusercontent.com/a/ACg8oc...</td>\n",
       "      <td>This app is one of the best online shopping ap...</td>\n",
       "      <td>5</td>\n",
       "      <td>0</td>\n",
       "      <td>5.6.2</td>\n",
       "      <td>2024-11-15 23:48:20</td>\n",
       "      <td>Dear customer, your satisfaction is our priori...</td>\n",
       "      <td>2024-11-19 06:10:51</td>\n",
       "      <td>5.6.2</td>\n",
       "    </tr>\n",
       "  </tbody>\n",
       "</table>\n",
       "</div>"
      ],
      "text/plain": [
       "                               reviewId           userName  \\\n",
       "0  d29e53c2-8a8e-412c-96b1-8d755d284d61   OKOKO THEOPHILUS   \n",
       "1  5e812d3a-310d-4055-946c-cae554bf524e        Samuel Sila   \n",
       "2  e69e360d-d12f-4819-8533-9724de997ff7        enok lenkai   \n",
       "3  511c86f7-f830-4b60-82fe-dd87a5ea6e28     Amina Mohammed   \n",
       "4  ff3823c8-ca56-4cc2-813e-72769136be0a  Florence Odhiambo   \n",
       "\n",
       "                                           userImage  \\\n",
       "0  https://play-lh.googleusercontent.com/a-/ALV-U...   \n",
       "1  https://play-lh.googleusercontent.com/a-/ALV-U...   \n",
       "2  https://play-lh.googleusercontent.com/a-/ALV-U...   \n",
       "3  https://play-lh.googleusercontent.com/a-/ALV-U...   \n",
       "4  https://play-lh.googleusercontent.com/a/ACg8oc...   \n",
       "\n",
       "                                             content  score  thumbsUpCount  \\\n",
       "0  my no.1 online shopping shop I’ve been using K...      5             30   \n",
       "1  The platform is user-friendly, and the app wor...      5              0   \n",
       "2  I really appreciate your customer service. I w...      5              0   \n",
       "3  the best app that you can order things and the...      4             10   \n",
       "4  This app is one of the best online shopping ap...      5              0   \n",
       "\n",
       "  reviewCreatedVersion                  at  \\\n",
       "0                5.6.1 2024-10-12 23:06:24   \n",
       "1                5.6.2 2024-11-13 10:51:53   \n",
       "2                5.6.2 2024-11-14 20:09:32   \n",
       "3                5.6.1 2024-09-26 16:15:46   \n",
       "4                5.6.2 2024-11-15 23:48:20   \n",
       "\n",
       "                                        replyContent           repliedAt  \\\n",
       "0  Hi Okoko, Thank you for shopping with us. We a... 2022-05-10 11:39:07   \n",
       "1  Dear customer, thank you for your feedback! We... 2024-11-14 06:43:01   \n",
       "2  Dear customer,thanks you for shopping with us.... 2024-11-19 06:18:00   \n",
       "3  Dear customer, good to know that you are havin... 2024-09-27 05:45:20   \n",
       "4  Dear customer, your satisfaction is our priori... 2024-11-19 06:10:51   \n",
       "\n",
       "  appVersion  \n",
       "0      5.6.1  \n",
       "1      5.6.2  \n",
       "2      5.6.2  \n",
       "3      5.6.1  \n",
       "4      5.6.2  "
      ]
     },
     "execution_count": 39,
     "metadata": {},
     "output_type": "execute_result"
    }
   ],
   "source": [
    "#Convert into a data frame\n",
    "\n",
    "Kilimall_rawdata = pd.DataFrame(np.array(Kilimall), columns = ['review'])\n",
    "Kilimall_rawdata = Kilimall_rawdata.join(pd.DataFrame(Kilimall_rawdata.pop('review').tolist()))\n",
    "Kilimall_rawdata.head()\n",
    "     "
   ]
  },
  {
   "cell_type": "code",
   "execution_count": 40,
   "id": "85b2d08d",
   "metadata": {},
   "outputs": [
    {
     "data": {
      "text/html": [
       "<div>\n",
       "<style scoped>\n",
       "    .dataframe tbody tr th:only-of-type {\n",
       "        vertical-align: middle;\n",
       "    }\n",
       "\n",
       "    .dataframe tbody tr th {\n",
       "        vertical-align: top;\n",
       "    }\n",
       "\n",
       "    .dataframe thead th {\n",
       "        text-align: right;\n",
       "    }\n",
       "</style>\n",
       "<table border=\"1\" class=\"dataframe\">\n",
       "  <thead>\n",
       "    <tr style=\"text-align: right;\">\n",
       "      <th></th>\n",
       "      <th>reviewId</th>\n",
       "      <th>userName</th>\n",
       "      <th>userImage</th>\n",
       "      <th>content</th>\n",
       "      <th>score</th>\n",
       "      <th>thumbsUpCount</th>\n",
       "      <th>reviewCreatedVersion</th>\n",
       "      <th>Review_timestamp</th>\n",
       "      <th>replyContent</th>\n",
       "      <th>repliedAt</th>\n",
       "      <th>appVersion</th>\n",
       "    </tr>\n",
       "  </thead>\n",
       "  <tbody>\n",
       "    <tr>\n",
       "      <th>0</th>\n",
       "      <td>d29e53c2-8a8e-412c-96b1-8d755d284d61</td>\n",
       "      <td>OKOKO THEOPHILUS</td>\n",
       "      <td>https://play-lh.googleusercontent.com/a-/ALV-U...</td>\n",
       "      <td>my no.1 online shopping shop I’ve been using K...</td>\n",
       "      <td>5</td>\n",
       "      <td>30</td>\n",
       "      <td>5.6.1</td>\n",
       "      <td>2024-10-12 23:06:24</td>\n",
       "      <td>Hi Okoko, Thank you for shopping with us. We a...</td>\n",
       "      <td>2022-05-10 11:39:07</td>\n",
       "      <td>5.6.1</td>\n",
       "    </tr>\n",
       "    <tr>\n",
       "      <th>1</th>\n",
       "      <td>5e812d3a-310d-4055-946c-cae554bf524e</td>\n",
       "      <td>Samuel Sila</td>\n",
       "      <td>https://play-lh.googleusercontent.com/a-/ALV-U...</td>\n",
       "      <td>The platform is user-friendly, and the app wor...</td>\n",
       "      <td>5</td>\n",
       "      <td>0</td>\n",
       "      <td>5.6.2</td>\n",
       "      <td>2024-11-13 10:51:53</td>\n",
       "      <td>Dear customer, thank you for your feedback! We...</td>\n",
       "      <td>2024-11-14 06:43:01</td>\n",
       "      <td>5.6.2</td>\n",
       "    </tr>\n",
       "    <tr>\n",
       "      <th>2</th>\n",
       "      <td>e69e360d-d12f-4819-8533-9724de997ff7</td>\n",
       "      <td>enok lenkai</td>\n",
       "      <td>https://play-lh.googleusercontent.com/a-/ALV-U...</td>\n",
       "      <td>I really appreciate your customer service. I w...</td>\n",
       "      <td>5</td>\n",
       "      <td>0</td>\n",
       "      <td>5.6.2</td>\n",
       "      <td>2024-11-14 20:09:32</td>\n",
       "      <td>Dear customer,thanks you for shopping with us....</td>\n",
       "      <td>2024-11-19 06:18:00</td>\n",
       "      <td>5.6.2</td>\n",
       "    </tr>\n",
       "    <tr>\n",
       "      <th>3</th>\n",
       "      <td>511c86f7-f830-4b60-82fe-dd87a5ea6e28</td>\n",
       "      <td>Amina Mohammed</td>\n",
       "      <td>https://play-lh.googleusercontent.com/a-/ALV-U...</td>\n",
       "      <td>the best app that you can order things and the...</td>\n",
       "      <td>4</td>\n",
       "      <td>10</td>\n",
       "      <td>5.6.1</td>\n",
       "      <td>2024-09-26 16:15:46</td>\n",
       "      <td>Dear customer, good to know that you are havin...</td>\n",
       "      <td>2024-09-27 05:45:20</td>\n",
       "      <td>5.6.1</td>\n",
       "    </tr>\n",
       "    <tr>\n",
       "      <th>4</th>\n",
       "      <td>ff3823c8-ca56-4cc2-813e-72769136be0a</td>\n",
       "      <td>Florence Odhiambo</td>\n",
       "      <td>https://play-lh.googleusercontent.com/a/ACg8oc...</td>\n",
       "      <td>This app is one of the best online shopping ap...</td>\n",
       "      <td>5</td>\n",
       "      <td>0</td>\n",
       "      <td>5.6.2</td>\n",
       "      <td>2024-11-15 23:48:20</td>\n",
       "      <td>Dear customer, your satisfaction is our priori...</td>\n",
       "      <td>2024-11-19 06:10:51</td>\n",
       "      <td>5.6.2</td>\n",
       "    </tr>\n",
       "  </tbody>\n",
       "</table>\n",
       "</div>"
      ],
      "text/plain": [
       "                               reviewId           userName  \\\n",
       "0  d29e53c2-8a8e-412c-96b1-8d755d284d61   OKOKO THEOPHILUS   \n",
       "1  5e812d3a-310d-4055-946c-cae554bf524e        Samuel Sila   \n",
       "2  e69e360d-d12f-4819-8533-9724de997ff7        enok lenkai   \n",
       "3  511c86f7-f830-4b60-82fe-dd87a5ea6e28     Amina Mohammed   \n",
       "4  ff3823c8-ca56-4cc2-813e-72769136be0a  Florence Odhiambo   \n",
       "\n",
       "                                           userImage  \\\n",
       "0  https://play-lh.googleusercontent.com/a-/ALV-U...   \n",
       "1  https://play-lh.googleusercontent.com/a-/ALV-U...   \n",
       "2  https://play-lh.googleusercontent.com/a-/ALV-U...   \n",
       "3  https://play-lh.googleusercontent.com/a-/ALV-U...   \n",
       "4  https://play-lh.googleusercontent.com/a/ACg8oc...   \n",
       "\n",
       "                                             content  score  thumbsUpCount  \\\n",
       "0  my no.1 online shopping shop I’ve been using K...      5             30   \n",
       "1  The platform is user-friendly, and the app wor...      5              0   \n",
       "2  I really appreciate your customer service. I w...      5              0   \n",
       "3  the best app that you can order things and the...      4             10   \n",
       "4  This app is one of the best online shopping ap...      5              0   \n",
       "\n",
       "  reviewCreatedVersion    Review_timestamp  \\\n",
       "0                5.6.1 2024-10-12 23:06:24   \n",
       "1                5.6.2 2024-11-13 10:51:53   \n",
       "2                5.6.2 2024-11-14 20:09:32   \n",
       "3                5.6.1 2024-09-26 16:15:46   \n",
       "4                5.6.2 2024-11-15 23:48:20   \n",
       "\n",
       "                                        replyContent           repliedAt  \\\n",
       "0  Hi Okoko, Thank you for shopping with us. We a... 2022-05-10 11:39:07   \n",
       "1  Dear customer, thank you for your feedback! We... 2024-11-14 06:43:01   \n",
       "2  Dear customer,thanks you for shopping with us.... 2024-11-19 06:18:00   \n",
       "3  Dear customer, good to know that you are havin... 2024-09-27 05:45:20   \n",
       "4  Dear customer, your satisfaction is our priori... 2024-11-19 06:10:51   \n",
       "\n",
       "  appVersion  \n",
       "0      5.6.1  \n",
       "1      5.6.2  \n",
       "2      5.6.2  \n",
       "3      5.6.1  \n",
       "4      5.6.2  "
      ]
     },
     "execution_count": 40,
     "metadata": {},
     "output_type": "execute_result"
    }
   ],
   "source": [
    "# renaming the at column\n",
    "Kilimall_data = pd.DataFrame(Kilimall_rawdata)  # Creating a DataFrame\n",
    "Kilimall_data.rename(columns={'at': 'Review_timestamp'}, inplace=True)\n",
    "Kilimall_data.head()"
   ]
  },
  {
   "cell_type": "markdown",
   "id": "8c4e3096",
   "metadata": {},
   "source": [
    "##### 3. Kilimall Data Description"
   ]
  },
  {
   "cell_type": "code",
   "execution_count": 41,
   "id": "a124cf8a",
   "metadata": {},
   "outputs": [
    {
     "name": "stdout",
     "output_type": "stream",
     "text": [
      "(1000, 11)\n",
      "<class 'pandas.core.frame.DataFrame'>\n",
      "RangeIndex: 1000 entries, 0 to 999\n",
      "Data columns (total 11 columns):\n",
      " #   Column                Non-Null Count  Dtype         \n",
      "---  ------                --------------  -----         \n",
      " 0   reviewId              1000 non-null   object        \n",
      " 1   userName              1000 non-null   object        \n",
      " 2   userImage             1000 non-null   object        \n",
      " 3   content               1000 non-null   object        \n",
      " 4   score                 1000 non-null   int64         \n",
      " 5   thumbsUpCount         1000 non-null   int64         \n",
      " 6   reviewCreatedVersion  940 non-null    object        \n",
      " 7   Review_timestamp      1000 non-null   datetime64[ns]\n",
      " 8   replyContent          915 non-null    object        \n",
      " 9   repliedAt             915 non-null    datetime64[ns]\n",
      " 10  appVersion            940 non-null    object        \n",
      "dtypes: datetime64[ns](2), int64(2), object(7)\n",
      "memory usage: 86.1+ KB\n"
     ]
    },
    {
     "data": {
      "text/plain": [
       "1000"
      ]
     },
     "execution_count": 41,
     "metadata": {},
     "output_type": "execute_result"
    }
   ],
   "source": [
    "# Data Description \n",
    "print(Kilimall_data.shape)\n",
    "Kilimall_data.info()\n",
    "\n",
    "len(Kilimall_data.index) # checking the number of observations for our dataset"
   ]
  },
  {
   "cell_type": "code",
   "execution_count": 42,
   "id": "0f6d984e",
   "metadata": {},
   "outputs": [
    {
     "data": {
      "text/html": [
       "<div>\n",
       "<style scoped>\n",
       "    .dataframe tbody tr th:only-of-type {\n",
       "        vertical-align: middle;\n",
       "    }\n",
       "\n",
       "    .dataframe tbody tr th {\n",
       "        vertical-align: top;\n",
       "    }\n",
       "\n",
       "    .dataframe thead th {\n",
       "        text-align: right;\n",
       "    }\n",
       "</style>\n",
       "<table border=\"1\" class=\"dataframe\">\n",
       "  <thead>\n",
       "    <tr style=\"text-align: right;\">\n",
       "      <th></th>\n",
       "      <th>content</th>\n",
       "      <th>reviewCreatedVersion</th>\n",
       "      <th>score</th>\n",
       "      <th>Review_timestamp</th>\n",
       "      <th>thumbsUpCount</th>\n",
       "    </tr>\n",
       "  </thead>\n",
       "  <tbody>\n",
       "    <tr>\n",
       "      <th>197</th>\n",
       "      <td>I get my percel,it was in good condition and i...</td>\n",
       "      <td>5.6.2</td>\n",
       "      <td>5</td>\n",
       "      <td>2024-11-19 21:29:49</td>\n",
       "      <td>0</td>\n",
       "    </tr>\n",
       "    <tr>\n",
       "      <th>418</th>\n",
       "      <td>It's an amazing App,with good products</td>\n",
       "      <td>5.6.2</td>\n",
       "      <td>5</td>\n",
       "      <td>2024-11-19 20:40:30</td>\n",
       "      <td>0</td>\n",
       "    </tr>\n",
       "    <tr>\n",
       "      <th>7</th>\n",
       "      <td>Very slow very unreliable, it's better to use ...</td>\n",
       "      <td>5.6.2</td>\n",
       "      <td>1</td>\n",
       "      <td>2024-11-19 20:10:44</td>\n",
       "      <td>0</td>\n",
       "    </tr>\n",
       "    <tr>\n",
       "      <th>221</th>\n",
       "      <td>the best online shopping app you could get</td>\n",
       "      <td>5.6.2</td>\n",
       "      <td>5</td>\n",
       "      <td>2024-11-19 18:04:27</td>\n",
       "      <td>0</td>\n",
       "    </tr>\n",
       "    <tr>\n",
       "      <th>36</th>\n",
       "      <td>Greatest of all time,, when it comes from purc...</td>\n",
       "      <td>5.6.2</td>\n",
       "      <td>5</td>\n",
       "      <td>2024-11-19 17:32:05</td>\n",
       "      <td>0</td>\n",
       "    </tr>\n",
       "  </tbody>\n",
       "</table>\n",
       "</div>"
      ],
      "text/plain": [
       "                                               content reviewCreatedVersion  \\\n",
       "197  I get my percel,it was in good condition and i...                5.6.2   \n",
       "418             It's an amazing App,with good products                5.6.2   \n",
       "7    Very slow very unreliable, it's better to use ...                5.6.2   \n",
       "221         the best online shopping app you could get                5.6.2   \n",
       "36   Greatest of all time,, when it comes from purc...                5.6.2   \n",
       "\n",
       "     score    Review_timestamp  thumbsUpCount  \n",
       "197      5 2024-11-19 21:29:49              0  \n",
       "418      5 2024-11-19 20:40:30              0  \n",
       "7        1 2024-11-19 20:10:44              0  \n",
       "221      5 2024-11-19 18:04:27              0  \n",
       "36       5 2024-11-19 17:32:05              0  "
      ]
     },
     "execution_count": 42,
     "metadata": {},
     "output_type": "execute_result"
    }
   ],
   "source": [
    "# drop the unnecesarry columns before we can start the EDA(Exploratory Data Analysis)# drop the unnecesarry columns before we can start the EDA(Exploratory Data Analysis)\n",
    "\n",
    "Kilimall_data1 = Kilimall_data[[\"content\",\"reviewCreatedVersion\",\"score\",\"Review_timestamp\",\"thumbsUpCount\"]]\n",
    "\n",
    "# arranging the data starting from the newest to oldest\n",
    "\n",
    "Kilimall_pointsort_data = Kilimall_data1.sort_values(by=\"Review_timestamp\", ascending= False) \n",
    "Kilimall_pointsort_data.head() "
   ]
  },
  {
   "cell_type": "markdown",
   "id": "3393be44",
   "metadata": {},
   "source": [
    "##### Jiji Reviews Web Scrapping, Data Importation and data description\n",
    "##### 1. Jiji Web scrapping"
   ]
  },
  {
   "cell_type": "code",
   "execution_count": 54,
   "id": "3cc23d23",
   "metadata": {},
   "outputs": [],
   "source": [
    "Jiji, continuation_token = reviews(\n",
    "    'com.olx.ssa.ke',\n",
    "    sort = Sort.MOST_RELEVANT,\n",
    "    #count = 1000,\n",
    "    filter_score_with = None   \n",
    ")"
   ]
  },
  {
   "cell_type": "markdown",
   "id": "851e5df8",
   "metadata": {},
   "source": [
    "##### 2. Jiji Data Import\n",
    "Converting Jiji scrapped data to Data Frame(Structured data) for our analysis."
   ]
  },
  {
   "cell_type": "code",
   "execution_count": 55,
   "id": "24ca579b",
   "metadata": {},
   "outputs": [
    {
     "data": {
      "text/html": [
       "<div>\n",
       "<style scoped>\n",
       "    .dataframe tbody tr th:only-of-type {\n",
       "        vertical-align: middle;\n",
       "    }\n",
       "\n",
       "    .dataframe tbody tr th {\n",
       "        vertical-align: top;\n",
       "    }\n",
       "\n",
       "    .dataframe thead th {\n",
       "        text-align: right;\n",
       "    }\n",
       "</style>\n",
       "<table border=\"1\" class=\"dataframe\">\n",
       "  <thead>\n",
       "    <tr style=\"text-align: right;\">\n",
       "      <th></th>\n",
       "      <th>reviewId</th>\n",
       "      <th>userName</th>\n",
       "      <th>userImage</th>\n",
       "      <th>content</th>\n",
       "      <th>score</th>\n",
       "      <th>thumbsUpCount</th>\n",
       "      <th>reviewCreatedVersion</th>\n",
       "      <th>at</th>\n",
       "      <th>replyContent</th>\n",
       "      <th>repliedAt</th>\n",
       "      <th>appVersion</th>\n",
       "    </tr>\n",
       "  </thead>\n",
       "  <tbody>\n",
       "    <tr>\n",
       "      <th>0</th>\n",
       "      <td>57e9f445-b6fd-4106-ae97-d055a0366f9d</td>\n",
       "      <td>mary mumbi</td>\n",
       "      <td>https://play-lh.googleusercontent.com/a/ACg8oc...</td>\n",
       "      <td>I have liked the app for the longest time beca...</td>\n",
       "      <td>2</td>\n",
       "      <td>0</td>\n",
       "      <td>4.10.1.0</td>\n",
       "      <td>2024-10-01 06:59:03</td>\n",
       "      <td>\\nDear Mary, if you face any issue while using...</td>\n",
       "      <td>2024-10-07 09:23:00</td>\n",
       "      <td>4.10.1.0</td>\n",
       "    </tr>\n",
       "    <tr>\n",
       "      <th>1</th>\n",
       "      <td>200acc26-7427-4044-ab80-ba2e43c6da83</td>\n",
       "      <td>suzie njambi</td>\n",
       "      <td>https://play-lh.googleusercontent.com/a-/ALV-U...</td>\n",
       "      <td>Jiji lovely platform....but gave 3 the platfor...</td>\n",
       "      <td>3</td>\n",
       "      <td>1</td>\n",
       "      <td>4.10.0.0</td>\n",
       "      <td>2024-08-22 22:54:50</td>\n",
       "      <td>We do appreciate your feedback! Our team is wo...</td>\n",
       "      <td>2024-08-28 18:07:39</td>\n",
       "      <td>4.10.0.0</td>\n",
       "    </tr>\n",
       "    <tr>\n",
       "      <th>2</th>\n",
       "      <td>187573bb-105e-43d2-ae8d-2002665ad2be</td>\n",
       "      <td>Ben Salome</td>\n",
       "      <td>https://play-lh.googleusercontent.com/a-/ALV-U...</td>\n",
       "      <td>Too much ads when you click to open you get no...</td>\n",
       "      <td>2</td>\n",
       "      <td>0</td>\n",
       "      <td>4.10.2.3</td>\n",
       "      <td>2024-10-28 04:59:09</td>\n",
       "      <td>Thank you for taking the time to provide us wi...</td>\n",
       "      <td>2024-11-11 12:37:54</td>\n",
       "      <td>4.10.2.3</td>\n",
       "    </tr>\n",
       "    <tr>\n",
       "      <th>3</th>\n",
       "      <td>0297e622-fdf5-4a4f-8dc9-0c5998fe3cc4</td>\n",
       "      <td>Carol Carolyn</td>\n",
       "      <td>https://play-lh.googleusercontent.com/a-/ALV-U...</td>\n",
       "      <td>Effective, only that sellers don't uodayte the...</td>\n",
       "      <td>4</td>\n",
       "      <td>2</td>\n",
       "      <td>4.10.1.0</td>\n",
       "      <td>2024-10-17 18:42:35</td>\n",
       "      <td>We do appreciate your feedback! Our team is wo...</td>\n",
       "      <td>2024-11-11 16:01:57</td>\n",
       "      <td>4.10.1.0</td>\n",
       "    </tr>\n",
       "    <tr>\n",
       "      <th>4</th>\n",
       "      <td>6c53d5e5-3915-450b-a389-84e09b8ea735</td>\n",
       "      <td>Princess J</td>\n",
       "      <td>https://play-lh.googleusercontent.com/a-/ALV-U...</td>\n",
       "      <td>Had been very useful in identifying items, get...</td>\n",
       "      <td>4</td>\n",
       "      <td>13</td>\n",
       "      <td>4.9.0.2</td>\n",
       "      <td>2024-08-03 16:30:57</td>\n",
       "      <td>None</td>\n",
       "      <td>NaT</td>\n",
       "      <td>4.9.0.2</td>\n",
       "    </tr>\n",
       "  </tbody>\n",
       "</table>\n",
       "</div>"
      ],
      "text/plain": [
       "                               reviewId       userName  \\\n",
       "0  57e9f445-b6fd-4106-ae97-d055a0366f9d     mary mumbi   \n",
       "1  200acc26-7427-4044-ab80-ba2e43c6da83   suzie njambi   \n",
       "2  187573bb-105e-43d2-ae8d-2002665ad2be     Ben Salome   \n",
       "3  0297e622-fdf5-4a4f-8dc9-0c5998fe3cc4  Carol Carolyn   \n",
       "4  6c53d5e5-3915-450b-a389-84e09b8ea735     Princess J   \n",
       "\n",
       "                                           userImage  \\\n",
       "0  https://play-lh.googleusercontent.com/a/ACg8oc...   \n",
       "1  https://play-lh.googleusercontent.com/a-/ALV-U...   \n",
       "2  https://play-lh.googleusercontent.com/a-/ALV-U...   \n",
       "3  https://play-lh.googleusercontent.com/a-/ALV-U...   \n",
       "4  https://play-lh.googleusercontent.com/a-/ALV-U...   \n",
       "\n",
       "                                             content  score  thumbsUpCount  \\\n",
       "0  I have liked the app for the longest time beca...      2              0   \n",
       "1  Jiji lovely platform....but gave 3 the platfor...      3              1   \n",
       "2  Too much ads when you click to open you get no...      2              0   \n",
       "3  Effective, only that sellers don't uodayte the...      4              2   \n",
       "4  Had been very useful in identifying items, get...      4             13   \n",
       "\n",
       "  reviewCreatedVersion                  at  \\\n",
       "0             4.10.1.0 2024-10-01 06:59:03   \n",
       "1             4.10.0.0 2024-08-22 22:54:50   \n",
       "2             4.10.2.3 2024-10-28 04:59:09   \n",
       "3             4.10.1.0 2024-10-17 18:42:35   \n",
       "4              4.9.0.2 2024-08-03 16:30:57   \n",
       "\n",
       "                                        replyContent           repliedAt  \\\n",
       "0  \\nDear Mary, if you face any issue while using... 2024-10-07 09:23:00   \n",
       "1  We do appreciate your feedback! Our team is wo... 2024-08-28 18:07:39   \n",
       "2  Thank you for taking the time to provide us wi... 2024-11-11 12:37:54   \n",
       "3  We do appreciate your feedback! Our team is wo... 2024-11-11 16:01:57   \n",
       "4                                               None                 NaT   \n",
       "\n",
       "  appVersion  \n",
       "0   4.10.1.0  \n",
       "1   4.10.0.0  \n",
       "2   4.10.2.3  \n",
       "3   4.10.1.0  \n",
       "4    4.9.0.2  "
      ]
     },
     "execution_count": 55,
     "metadata": {},
     "output_type": "execute_result"
    }
   ],
   "source": [
    "#Convert into a data frame\n",
    "\n",
    "Jiji_rawdata = pd.DataFrame(np.array(Jiji), columns = ['review'])\n",
    "Jiji_rawdata = Jiji_rawdata.join(pd.DataFrame(Jiji_rawdata.pop('review').tolist()))\n",
    "Jiji_rawdata.head()\n",
    "     "
   ]
  },
  {
   "cell_type": "code",
   "execution_count": 56,
   "id": "a50b5ed4",
   "metadata": {},
   "outputs": [
    {
     "data": {
      "text/html": [
       "<div>\n",
       "<style scoped>\n",
       "    .dataframe tbody tr th:only-of-type {\n",
       "        vertical-align: middle;\n",
       "    }\n",
       "\n",
       "    .dataframe tbody tr th {\n",
       "        vertical-align: top;\n",
       "    }\n",
       "\n",
       "    .dataframe thead th {\n",
       "        text-align: right;\n",
       "    }\n",
       "</style>\n",
       "<table border=\"1\" class=\"dataframe\">\n",
       "  <thead>\n",
       "    <tr style=\"text-align: right;\">\n",
       "      <th></th>\n",
       "      <th>reviewId</th>\n",
       "      <th>userName</th>\n",
       "      <th>userImage</th>\n",
       "      <th>content</th>\n",
       "      <th>score</th>\n",
       "      <th>thumbsUpCount</th>\n",
       "      <th>reviewCreatedVersion</th>\n",
       "      <th>Review_timestamp</th>\n",
       "      <th>replyContent</th>\n",
       "      <th>repliedAt</th>\n",
       "      <th>appVersion</th>\n",
       "    </tr>\n",
       "  </thead>\n",
       "  <tbody>\n",
       "    <tr>\n",
       "      <th>0</th>\n",
       "      <td>57e9f445-b6fd-4106-ae97-d055a0366f9d</td>\n",
       "      <td>mary mumbi</td>\n",
       "      <td>https://play-lh.googleusercontent.com/a/ACg8oc...</td>\n",
       "      <td>I have liked the app for the longest time beca...</td>\n",
       "      <td>2</td>\n",
       "      <td>0</td>\n",
       "      <td>4.10.1.0</td>\n",
       "      <td>2024-10-01 06:59:03</td>\n",
       "      <td>\\nDear Mary, if you face any issue while using...</td>\n",
       "      <td>2024-10-07 09:23:00</td>\n",
       "      <td>4.10.1.0</td>\n",
       "    </tr>\n",
       "    <tr>\n",
       "      <th>1</th>\n",
       "      <td>200acc26-7427-4044-ab80-ba2e43c6da83</td>\n",
       "      <td>suzie njambi</td>\n",
       "      <td>https://play-lh.googleusercontent.com/a-/ALV-U...</td>\n",
       "      <td>Jiji lovely platform....but gave 3 the platfor...</td>\n",
       "      <td>3</td>\n",
       "      <td>1</td>\n",
       "      <td>4.10.0.0</td>\n",
       "      <td>2024-08-22 22:54:50</td>\n",
       "      <td>We do appreciate your feedback! Our team is wo...</td>\n",
       "      <td>2024-08-28 18:07:39</td>\n",
       "      <td>4.10.0.0</td>\n",
       "    </tr>\n",
       "    <tr>\n",
       "      <th>2</th>\n",
       "      <td>187573bb-105e-43d2-ae8d-2002665ad2be</td>\n",
       "      <td>Ben Salome</td>\n",
       "      <td>https://play-lh.googleusercontent.com/a-/ALV-U...</td>\n",
       "      <td>Too much ads when you click to open you get no...</td>\n",
       "      <td>2</td>\n",
       "      <td>0</td>\n",
       "      <td>4.10.2.3</td>\n",
       "      <td>2024-10-28 04:59:09</td>\n",
       "      <td>Thank you for taking the time to provide us wi...</td>\n",
       "      <td>2024-11-11 12:37:54</td>\n",
       "      <td>4.10.2.3</td>\n",
       "    </tr>\n",
       "    <tr>\n",
       "      <th>3</th>\n",
       "      <td>0297e622-fdf5-4a4f-8dc9-0c5998fe3cc4</td>\n",
       "      <td>Carol Carolyn</td>\n",
       "      <td>https://play-lh.googleusercontent.com/a-/ALV-U...</td>\n",
       "      <td>Effective, only that sellers don't uodayte the...</td>\n",
       "      <td>4</td>\n",
       "      <td>2</td>\n",
       "      <td>4.10.1.0</td>\n",
       "      <td>2024-10-17 18:42:35</td>\n",
       "      <td>We do appreciate your feedback! Our team is wo...</td>\n",
       "      <td>2024-11-11 16:01:57</td>\n",
       "      <td>4.10.1.0</td>\n",
       "    </tr>\n",
       "    <tr>\n",
       "      <th>4</th>\n",
       "      <td>6c53d5e5-3915-450b-a389-84e09b8ea735</td>\n",
       "      <td>Princess J</td>\n",
       "      <td>https://play-lh.googleusercontent.com/a-/ALV-U...</td>\n",
       "      <td>Had been very useful in identifying items, get...</td>\n",
       "      <td>4</td>\n",
       "      <td>13</td>\n",
       "      <td>4.9.0.2</td>\n",
       "      <td>2024-08-03 16:30:57</td>\n",
       "      <td>None</td>\n",
       "      <td>NaT</td>\n",
       "      <td>4.9.0.2</td>\n",
       "    </tr>\n",
       "  </tbody>\n",
       "</table>\n",
       "</div>"
      ],
      "text/plain": [
       "                               reviewId       userName  \\\n",
       "0  57e9f445-b6fd-4106-ae97-d055a0366f9d     mary mumbi   \n",
       "1  200acc26-7427-4044-ab80-ba2e43c6da83   suzie njambi   \n",
       "2  187573bb-105e-43d2-ae8d-2002665ad2be     Ben Salome   \n",
       "3  0297e622-fdf5-4a4f-8dc9-0c5998fe3cc4  Carol Carolyn   \n",
       "4  6c53d5e5-3915-450b-a389-84e09b8ea735     Princess J   \n",
       "\n",
       "                                           userImage  \\\n",
       "0  https://play-lh.googleusercontent.com/a/ACg8oc...   \n",
       "1  https://play-lh.googleusercontent.com/a-/ALV-U...   \n",
       "2  https://play-lh.googleusercontent.com/a-/ALV-U...   \n",
       "3  https://play-lh.googleusercontent.com/a-/ALV-U...   \n",
       "4  https://play-lh.googleusercontent.com/a-/ALV-U...   \n",
       "\n",
       "                                             content  score  thumbsUpCount  \\\n",
       "0  I have liked the app for the longest time beca...      2              0   \n",
       "1  Jiji lovely platform....but gave 3 the platfor...      3              1   \n",
       "2  Too much ads when you click to open you get no...      2              0   \n",
       "3  Effective, only that sellers don't uodayte the...      4              2   \n",
       "4  Had been very useful in identifying items, get...      4             13   \n",
       "\n",
       "  reviewCreatedVersion    Review_timestamp  \\\n",
       "0             4.10.1.0 2024-10-01 06:59:03   \n",
       "1             4.10.0.0 2024-08-22 22:54:50   \n",
       "2             4.10.2.3 2024-10-28 04:59:09   \n",
       "3             4.10.1.0 2024-10-17 18:42:35   \n",
       "4              4.9.0.2 2024-08-03 16:30:57   \n",
       "\n",
       "                                        replyContent           repliedAt  \\\n",
       "0  \\nDear Mary, if you face any issue while using... 2024-10-07 09:23:00   \n",
       "1  We do appreciate your feedback! Our team is wo... 2024-08-28 18:07:39   \n",
       "2  Thank you for taking the time to provide us wi... 2024-11-11 12:37:54   \n",
       "3  We do appreciate your feedback! Our team is wo... 2024-11-11 16:01:57   \n",
       "4                                               None                 NaT   \n",
       "\n",
       "  appVersion  \n",
       "0   4.10.1.0  \n",
       "1   4.10.0.0  \n",
       "2   4.10.2.3  \n",
       "3   4.10.1.0  \n",
       "4    4.9.0.2  "
      ]
     },
     "execution_count": 56,
     "metadata": {},
     "output_type": "execute_result"
    }
   ],
   "source": [
    "# renaming the at column\n",
    "Jiji_data = pd.DataFrame(Jiji_rawdata)  # Creating a DataFrame\n",
    "Jiji_data.rename(columns={'at': 'Review_timestamp'}, inplace=True)\n",
    "Jiji_data.head()"
   ]
  },
  {
   "cell_type": "markdown",
   "id": "10d69409",
   "metadata": {},
   "source": [
    "##### 3. Jiji Data Description"
   ]
  },
  {
   "cell_type": "code",
   "execution_count": 57,
   "id": "cb536a9f",
   "metadata": {},
   "outputs": [
    {
     "name": "stdout",
     "output_type": "stream",
     "text": [
      "(100, 11)\n",
      "<class 'pandas.core.frame.DataFrame'>\n",
      "RangeIndex: 100 entries, 0 to 99\n",
      "Data columns (total 11 columns):\n",
      " #   Column                Non-Null Count  Dtype         \n",
      "---  ------                --------------  -----         \n",
      " 0   reviewId              100 non-null    object        \n",
      " 1   userName              100 non-null    object        \n",
      " 2   userImage             100 non-null    object        \n",
      " 3   content               100 non-null    object        \n",
      " 4   score                 100 non-null    int64         \n",
      " 5   thumbsUpCount         100 non-null    int64         \n",
      " 6   reviewCreatedVersion  95 non-null     object        \n",
      " 7   Review_timestamp      100 non-null    datetime64[ns]\n",
      " 8   replyContent          85 non-null     object        \n",
      " 9   repliedAt             85 non-null     datetime64[ns]\n",
      " 10  appVersion            95 non-null     object        \n",
      "dtypes: datetime64[ns](2), int64(2), object(7)\n",
      "memory usage: 8.7+ KB\n"
     ]
    },
    {
     "data": {
      "text/plain": [
       "100"
      ]
     },
     "execution_count": 57,
     "metadata": {},
     "output_type": "execute_result"
    }
   ],
   "source": [
    "# Data Description \n",
    "print(Jiji_data.shape)\n",
    "Jiji_data.info()\n",
    "\n",
    "len(Jiji_data.index) # checking the number of observations for our dataset"
   ]
  },
  {
   "cell_type": "code",
   "execution_count": 58,
   "id": "3767b741",
   "metadata": {},
   "outputs": [
    {
     "data": {
      "text/html": [
       "<div>\n",
       "<style scoped>\n",
       "    .dataframe tbody tr th:only-of-type {\n",
       "        vertical-align: middle;\n",
       "    }\n",
       "\n",
       "    .dataframe tbody tr th {\n",
       "        vertical-align: top;\n",
       "    }\n",
       "\n",
       "    .dataframe thead th {\n",
       "        text-align: right;\n",
       "    }\n",
       "</style>\n",
       "<table border=\"1\" class=\"dataframe\">\n",
       "  <thead>\n",
       "    <tr style=\"text-align: right;\">\n",
       "      <th></th>\n",
       "      <th>content</th>\n",
       "      <th>reviewCreatedVersion</th>\n",
       "      <th>score</th>\n",
       "      <th>Review_timestamp</th>\n",
       "      <th>thumbsUpCount</th>\n",
       "    </tr>\n",
       "  </thead>\n",
       "  <tbody>\n",
       "    <tr>\n",
       "      <th>25</th>\n",
       "      <td>Great application, very effective in buying an...</td>\n",
       "      <td>4.10.2.3</td>\n",
       "      <td>5</td>\n",
       "      <td>2024-11-19 13:24:01</td>\n",
       "      <td>0</td>\n",
       "    </tr>\n",
       "    <tr>\n",
       "      <th>7</th>\n",
       "      <td>This is the best buying and selling searching ...</td>\n",
       "      <td>4.10.2.3</td>\n",
       "      <td>5</td>\n",
       "      <td>2024-11-17 03:46:57</td>\n",
       "      <td>6</td>\n",
       "    </tr>\n",
       "    <tr>\n",
       "      <th>22</th>\n",
       "      <td>Good platform to conduct business. User friend...</td>\n",
       "      <td>4.10.2.3</td>\n",
       "      <td>5</td>\n",
       "      <td>2024-11-16 15:27:55</td>\n",
       "      <td>0</td>\n",
       "    </tr>\n",
       "    <tr>\n",
       "      <th>83</th>\n",
       "      <td>Really reliable. be extra cautious during meet...</td>\n",
       "      <td>4.10.2.3</td>\n",
       "      <td>5</td>\n",
       "      <td>2024-11-15 22:09:31</td>\n",
       "      <td>0</td>\n",
       "    </tr>\n",
       "    <tr>\n",
       "      <th>23</th>\n",
       "      <td>Not good at all even after paying for it so th...</td>\n",
       "      <td>4.10.2.3</td>\n",
       "      <td>1</td>\n",
       "      <td>2024-11-14 21:08:15</td>\n",
       "      <td>0</td>\n",
       "    </tr>\n",
       "  </tbody>\n",
       "</table>\n",
       "</div>"
      ],
      "text/plain": [
       "                                              content reviewCreatedVersion  \\\n",
       "25  Great application, very effective in buying an...             4.10.2.3   \n",
       "7   This is the best buying and selling searching ...             4.10.2.3   \n",
       "22  Good platform to conduct business. User friend...             4.10.2.3   \n",
       "83  Really reliable. be extra cautious during meet...             4.10.2.3   \n",
       "23  Not good at all even after paying for it so th...             4.10.2.3   \n",
       "\n",
       "    score    Review_timestamp  thumbsUpCount  \n",
       "25      5 2024-11-19 13:24:01              0  \n",
       "7       5 2024-11-17 03:46:57              6  \n",
       "22      5 2024-11-16 15:27:55              0  \n",
       "83      5 2024-11-15 22:09:31              0  \n",
       "23      1 2024-11-14 21:08:15              0  "
      ]
     },
     "execution_count": 58,
     "metadata": {},
     "output_type": "execute_result"
    }
   ],
   "source": [
    "# drop the unnecesarry columns before we can start the EDA(Exploratory Data Analysis)# drop the unnecesarry columns before we can start the EDA(Exploratory Data Analysis)\n",
    "\n",
    "Jiji_data1 = Jiji_data[[\"content\",\"reviewCreatedVersion\",\"score\",\"Review_timestamp\",\"thumbsUpCount\"]]\n",
    "\n",
    "# arranging the data starting from the newest to oldest\n",
    "\n",
    "Jiji_pointsort_data = Jiji_data1.sort_values(by=\"Review_timestamp\", ascending= False) \n",
    "Jiji_pointsort_data.head() "
   ]
  },
  {
   "cell_type": "markdown",
   "id": "b2d960a6",
   "metadata": {},
   "source": [
    "### EXPLORATORY DATA ANALYSIS\n",
    "### 1. JUMIA - EXPLORATORY DATA ANALYSIS\n",
    "\n",
    "##### CHECKING MISSING VALUES"
   ]
  },
  {
   "cell_type": "code",
   "execution_count": 93,
   "id": "4d20a9e0",
   "metadata": {},
   "outputs": [
    {
     "name": "stdout",
     "output_type": "stream",
     "text": [
      "content                 0\n",
      "reviewCreatedVersion    0\n",
      "score                   0\n",
      "Review_timestamp        0\n",
      "thumbsUpCount           0\n",
      "extracted_emojis        0\n",
      "Sentiment_score         0\n",
      "polarity                0\n",
      "subjectivity            0\n",
      "feedback                0\n",
      "dtype: int64\n"
     ]
    }
   ],
   "source": [
    "Jumia_pointsort_data_sum_missing = Jumia_pointsort_data.isnull().sum()\n",
    "print(Jumia_pointsort_data_sum_missing) "
   ]
  },
  {
   "cell_type": "markdown",
   "id": "d7345d55",
   "metadata": {},
   "source": [
    "#### CHECKING THE REVIEWS IN TERMS OF SCORES TO SEE IF THERE IS MORE POSTIVE THAN THAN NEGATIVE FEEDBACK\n"
   ]
  },
  {
   "cell_type": "code",
   "execution_count": 94,
   "id": "5c33d16f",
   "metadata": {},
   "outputs": [
    {
     "data": {
      "image/png": "[encoded data removed]",
      "text/plain": [
       "<Figure size 640x480 with 1 Axes>"
      ]
     },
     "metadata": {},
     "output_type": "display_data"
    }
   ],
   "source": [
    "\n",
    "# Visualize data using histogram to determine if app is more positive reviews or negative reviews in terms of score\n",
    "plt.hist(Jumia_pointsort_data['score'], bins = 5)\n",
    "plt.xlabel(\"score review\")\n",
    "plt.ylabel(\"frequency\")\n",
    "plt.title(\"Jumia score review Histogram\")\n",
    "plt.show()"
   ]
  },
  {
   "cell_type": "markdown",
   "id": "7d491fc0",
   "metadata": {},
   "source": [
    "### KILIMALL - EXPLORATORY DATA ANALYSIS"
   ]
  },
  {
   "cell_type": "markdown",
   "id": "b326d178",
   "metadata": {},
   "source": [
    "##### CHECKING MISSING VALUES"
   ]
  },
  {
   "cell_type": "code",
   "execution_count": 95,
   "id": "82d1d788",
   "metadata": {},
   "outputs": [
    {
     "name": "stdout",
     "output_type": "stream",
     "text": [
      "content                 0\n",
      "reviewCreatedVersion    0\n",
      "score                   0\n",
      "Review_timestamp        0\n",
      "thumbsUpCount           0\n",
      "extracted_emojis        0\n",
      "Sentiment_score         0\n",
      "polarity                0\n",
      "subjectivity            0\n",
      "feedback                0\n",
      "dtype: int64\n"
     ]
    }
   ],
   "source": [
    "Kilimall_pointsort_data_sum_missing = Kilimall_pointsort_data.isnull().sum()\n",
    "print(Jumia_pointsort_data_sum_missing) "
   ]
  },
  {
   "cell_type": "markdown",
   "id": "1d141089",
   "metadata": {},
   "source": [
    "#### CHECKING THE REVIEWS IN TERMS OF SCORES TO SEE IF THERE IS MORE POSTIVE THAN THAN NEGATIVE FEEDBACK"
   ]
  },
  {
   "cell_type": "code",
   "execution_count": 96,
   "id": "14993011",
   "metadata": {},
   "outputs": [
    {
     "data": {
      "image/png": "[encoded data removed]",
      "text/plain": [
       "<Figure size 640x480 with 1 Axes>"
      ]
     },
     "metadata": {},
     "output_type": "display_data"
    }
   ],
   "source": [
    "# Visualize data using histogram to determine if app is more positive reviews or negative reviews in terms of score\n",
    "plt.hist(Kilimall_pointsort_data['score'], bins = 5)\n",
    "plt.xlabel(\"score review\")\n",
    "plt.ylabel(\"frequency\")\n",
    "plt.title(\"Kilimall score review Histogram\")\n",
    "plt.show()"
   ]
  },
  {
   "cell_type": "markdown",
   "id": "4a40ab7d",
   "metadata": {},
   "source": [
    "### JIJI - EXPLORATORY DATA ANALYSIS"
   ]
  },
  {
   "cell_type": "markdown",
   "id": "8832c842",
   "metadata": {},
   "source": [
    "##### CHECKING MISSING VALUES"
   ]
  },
  {
   "cell_type": "code",
   "execution_count": 97,
   "id": "bfbec5da",
   "metadata": {},
   "outputs": [
    {
     "name": "stdout",
     "output_type": "stream",
     "text": [
      "content                 0\n",
      "reviewCreatedVersion    5\n",
      "score                   0\n",
      "Review_timestamp        0\n",
      "thumbsUpCount           0\n",
      "dtype: int64\n"
     ]
    }
   ],
   "source": [
    "Jiji_pointsort_data_sum_missing = Jiji_pointsort_data.isnull().sum()\n",
    "print(Jiji_pointsort_data_sum_missing) "
   ]
  },
  {
   "cell_type": "markdown",
   "id": "d8be32b9",
   "metadata": {},
   "source": [
    "#### CHECKING THE REVIEWS IN TERMS OF SCORES TO SEE IF THERE IS MORE POSTIVE THAN THAN NEGATIVE FEEDBACK"
   ]
  },
  {
   "cell_type": "code",
   "execution_count": 98,
   "id": "50620cc6",
   "metadata": {},
   "outputs": [
    {
     "data": {
      "image/png": "[encoded data removed]",
      "text/plain": [
       "<Figure size 640x480 with 1 Axes>"
      ]
     },
     "metadata": {},
     "output_type": "display_data"
    }
   ],
   "source": [
    "# Visualize data using histogram to determine if app is more positive reviews or negative reviews in terms of score\n",
    "plt.hist(Jiji_pointsort_data['score'], bins = 5)\n",
    "plt.xlabel(\"score review\")\n",
    "plt.ylabel(\"frequency\")\n",
    "plt.title(\"Jiji score review Histogram\")\n",
    "plt.show()"
   ]
  },
  {
   "cell_type": "markdown",
   "id": "fcb44daa",
   "metadata": {},
   "source": [
    "### JUMIA - DATA PREPROCESSING\n",
    "\n",
    "###  Lowercasing - this is to maintain consistency of data"
   ]
  },
  {
   "cell_type": "code",
   "execution_count": 99,
   "id": "1d506316",
   "metadata": {},
   "outputs": [
    {
     "data": {
      "text/plain": [
       "pandas.core.series.Series"
      ]
     },
     "execution_count": 99,
     "metadata": {},
     "output_type": "execute_result"
    }
   ],
   "source": [
    "# check data type of content and change to str\n",
    "type(Jumia_pointsort_data[\"content\"])\n"
   ]
  },
  {
   "cell_type": "code",
   "execution_count": 100,
   "id": "4708c382",
   "metadata": {},
   "outputs": [
    {
     "name": "stdout",
     "output_type": "stream",
     "text": [
      "12    the app is good for shopping and the tracking ...\n",
      "5     i had a terrible experience with jumia. i orde...\n",
      "4     your app keeps writing network failure all the...\n",
      "72    worst app ever, i've been trying to sign up fo...\n",
      "87    great app and all but of recent anytime i log ...\n",
      "11    buying from jumia has eased my stress. i don't...\n",
      "34    inability to access the app as it keeps giving...\n",
      "60    nice app... but haven't been able to access th...\n",
      "78    neutral at least they keep to their words... i...\n",
      "24    i am having difficulty with logging into my ju...\n",
      "3     i’ve used the jumia app for years, but recentl...\n",
      "6     i have been unable to run the app on my phone ...\n",
      "23    jumia service delivery have become absolutely ...\n",
      "10    for almost a year,i uninstalled the app and to...\n",
      "21    i like the concept of the app and i've made qu...\n",
      "99    jumia for me for quite some years that i've be...\n",
      "93    this app was good until they destroyed it with...\n",
      "96    jumia is be coming 0zero this app is be coming...\n",
      "94    have not been able to access my jumia app sinc...\n",
      "15    i've been a loyal jumia customer for five year...\n",
      "Name: content, dtype: object\n"
     ]
    }
   ],
   "source": [
    "#convert to str\n",
    "Jumia_pointsort_data['content'] = Jumia_pointsort_data['content'].astype(str)\n",
    "print(Jumia_pointsort_data['content'].head(20))  \n"
   ]
  },
  {
   "cell_type": "code",
   "execution_count": 101,
   "id": "2ab256a8",
   "metadata": {},
   "outputs": [
    {
     "name": "stdout",
     "output_type": "stream",
     "text": [
      "12    the app is good for shopping and the tracking ...\n",
      "5     i had a terrible experience with jumia. i orde...\n",
      "4     your app keeps writing network failure all the...\n",
      "72    worst app ever, i've been trying to sign up fo...\n",
      "87    great app and all but of recent anytime i log ...\n",
      "Name: content, dtype: object\n"
     ]
    }
   ],
   "source": [
    "#Lowercase all reviews\n",
    "\n",
    "Jumia_pointsort_data['content'] = Jumia_pointsort_data['content'].apply(lambda x: x.lower())\n",
    "print(Jumia_pointsort_data['content'].head()) \n",
    "\n",
    "# Most of the reviews are already in lowercase so can see the difference if we look at the whole dataset.\n"
   ]
  },
  {
   "cell_type": "markdown",
   "id": "06e60ebf",
   "metadata": {},
   "source": [
    "### Emojis"
   ]
  },
  {
   "cell_type": "code",
   "execution_count": 102,
   "id": "ee4479a0",
   "metadata": {},
   "outputs": [
    {
     "name": "stdout",
     "output_type": "stream",
     "text": [
      "True\n",
      "i’ve used the jumia app for years, but recently, it has become increasingly frustrating to navigate. the biggest issue is how it keeps asking you to verify your address. you’d think once is enough, but no – it forces you to repeat the process over and over, starting from scratch each time. another annoying problem is the date of birth entry. instead of typing it in or choosing it conveniently, you’re stuck scrolling back through years of calendars. if you’re an adult with decades to scroll thro\n"
     ]
    }
   ],
   "source": [
    "#check if there is any special character\n",
    "alphabet = string.ascii_letters+string.punctuation\n",
    "print(Jumia_pointsort_data.content.str.strip(alphabet).astype(bool).any())\n",
    "\n",
    "extracted_emojis=[]\n",
    "\n",
    "def extract_emojis(s):\n",
    "  expe = re.compile('[\\U00010000-\\U0010ffff]', flags=re.UNICODE)\n",
    "  #return expe.findall(s)\n",
    "  return expe.sub(r'',s)\n",
    "\n",
    "\n",
    "for i in Jumia_pointsort_data['content']:\n",
    "  #print(str(extract_emojis(y)))\n",
    "  extracted_emojis.append(str(extract_emojis(i)))\n",
    "\n",
    "print(extracted_emojis[10])\n",
    "\n"
   ]
  },
  {
   "cell_type": "markdown",
   "id": "004b72bc",
   "metadata": {},
   "source": [
    "### Stopwords\n",
    "\n",
    "Removing stopwords can improve the performance to a great extent. Words such as myself, me , she, he , they , mine, you etc. When these words are removed only meaningful tokens are left.\n"
   ]
  },
  {
   "cell_type": "code",
   "execution_count": 103,
   "id": "44fa0f12",
   "metadata": {},
   "outputs": [
    {
     "name": "stdout",
     "output_type": "stream",
     "text": [
      "12    the app is good for shopping and the tracking ...\n",
      "5     i had a terrible experience with jumia. i orde...\n",
      "4     your app keeps writing network failure all the...\n",
      "72    worst app ever, i've been trying to sign up fo...\n",
      "87    great app and all but of recent anytime i log ...\n",
      "Name: extracted_emojis, dtype: object\n"
     ]
    }
   ],
   "source": [
    "# removing stop words\n",
    "stop_words = stopwords.words('english')\n",
    "Jumia_pointsort_data[\"extracted_emojis\"] = extracted_emojis\n",
    "Jumia_pointsort_data[\"extracted_emojis\"] = Jumia_pointsort_data[\"extracted_emojis\"].apply(lambda x:x if x not in stop_words else None)\n",
    "print(Jumia_pointsort_data['extracted_emojis'].head())"
   ]
  },
  {
   "cell_type": "markdown",
   "id": "90572d96",
   "metadata": {},
   "source": [
    "### Stemming\n",
    "Stemming is also an important process, it chops off the end of the word and transform the word into its root form. All suffixes like -s, -es, -ed, -ing are removed.\n"
   ]
  },
  {
   "cell_type": "code",
   "execution_count": 104,
   "id": "0400f58d",
   "metadata": {},
   "outputs": [
    {
     "name": "stdout",
     "output_type": "stream",
     "text": [
      "12    the app is good for shopping and the tracking ...\n",
      "5     i had a terrible experience with jumia. i orde...\n",
      "4     your app keeps writing network failure all the...\n",
      "72    worst app ever, i've been trying to sign up fo...\n",
      "87    great app and all but of recent anytime i log ...\n",
      "Name: extracted_emojis, dtype: object\n"
     ]
    }
   ],
   "source": [
    "from nltk.stem.snowball import PorterStemmer\n",
    "#stemming\n",
    "def stemming(x):\n",
    "  st = PorterStemmer()\n",
    "  if x is not None:\n",
    "    for word in x.split():\n",
    "      st.stem(word)\n",
    "\n",
    "\n",
    "Jumia_pointsort_data['extracted_emojis'].apply(lambda x: stemming(x))\n",
    "print(Jumia_pointsort_data['extracted_emojis'].head())      \n",
    "     "
   ]
  },
  {
   "cell_type": "markdown",
   "id": "ca025fef",
   "metadata": {},
   "source": [
    "### JUMIA SENTIMENT ANALYSIS"
   ]
  },
  {
   "cell_type": "code",
   "execution_count": 107,
   "id": "b90d74e4",
   "metadata": {
    "scrolled": true
   },
   "outputs": [
    {
     "name": "stdout",
     "output_type": "stream",
     "text": [
      "Empty DataFrame\n",
      "Columns: [extracted_emojis, Sentiment_score]\n",
      "Index: []\n"
     ]
    }
   ],
   "source": [
    "#Function to calculate sentiment score for whole data set\n",
    "\n",
    "def senti_sc(x):\n",
    "    if x is not None:\n",
    "       return TextBlob(x).sentiment\n",
    "\n",
    "Jumia_pointsort_data[\"Sentiment_score\"]= Jumia_pointsort_data[\"extracted_emojis\"].apply(senti_sc)\n",
    "print(Jumia_pointsort_data.loc[0:19,['extracted_emojis','Sentiment_score']])\n",
    "\n"
   ]
  },
  {
   "cell_type": "code",
   "execution_count": 108,
   "id": "d667a81d",
   "metadata": {},
   "outputs": [
    {
     "data": {
      "text/plain": [
       "Sentiment(polarity=0.2972222222222223, subjectivity=0.4694444444444445)"
      ]
     },
     "execution_count": 108,
     "metadata": {},
     "output_type": "execute_result"
    }
   ],
   "source": [
    "#for i in \n",
    "Jumia_pointsort_data['Sentiment_score'][0]"
   ]
  },
  {
   "cell_type": "code",
   "execution_count": 109,
   "id": "2c87ba21",
   "metadata": {},
   "outputs": [],
   "source": [
    "from textblob.en import subjectivity\n",
    "polarity=[]\n",
    "subjectivity = []\n",
    "for i in Jumia_pointsort_data['extracted_emojis'].values:\n",
    "  try:\n",
    "    analysis = TextBlob(i)\n",
    "    polarity.append(analysis.sentiment.polarity)\n",
    "    subjectivity.append(analysis.sentiment.subjectivity)\n",
    "    \n",
    "  except:\n",
    "     polarity.append(0)\n",
    "     subjectivity.append(0) "
   ]
  },
  {
   "cell_type": "code",
   "execution_count": 110,
   "id": "d07ccc55",
   "metadata": {},
   "outputs": [],
   "source": [
    "Jumia_pointsort_data['polarity'] = polarity\n",
    "Jumia_pointsort_data['subjectivity'] = subjectivity\n"
   ]
  },
  {
   "cell_type": "markdown",
   "id": "02090c55",
   "metadata": {},
   "source": [
    "##### What are some of the top most positive feedbacks?"
   ]
  },
  {
   "cell_type": "code",
   "execution_count": 111,
   "id": "3b8177d6",
   "metadata": {},
   "outputs": [
    {
     "data": {
      "text/html": [
       "<div>\n",
       "<style scoped>\n",
       "    .dataframe tbody tr th:only-of-type {\n",
       "        vertical-align: middle;\n",
       "    }\n",
       "\n",
       "    .dataframe tbody tr th {\n",
       "        vertical-align: top;\n",
       "    }\n",
       "\n",
       "    .dataframe thead th {\n",
       "        text-align: right;\n",
       "    }\n",
       "</style>\n",
       "<table border=\"1\" class=\"dataframe\">\n",
       "  <thead>\n",
       "    <tr style=\"text-align: right;\">\n",
       "      <th></th>\n",
       "      <th>content</th>\n",
       "      <th>reviewCreatedVersion</th>\n",
       "      <th>score</th>\n",
       "      <th>Review_timestamp</th>\n",
       "      <th>thumbsUpCount</th>\n",
       "      <th>extracted_emojis</th>\n",
       "      <th>Sentiment_score</th>\n",
       "      <th>polarity</th>\n",
       "      <th>subjectivity</th>\n",
       "      <th>feedback</th>\n",
       "    </tr>\n",
       "  </thead>\n",
       "  <tbody>\n",
       "    <tr>\n",
       "      <th>12</th>\n",
       "      <td>the app is good for shopping and the tracking ...</td>\n",
       "      <td>16.6.1</td>\n",
       "      <td>2</td>\n",
       "      <td>2024-11-19 19:44:41</td>\n",
       "      <td>1</td>\n",
       "      <td>the app is good for shopping and the tracking ...</td>\n",
       "      <td>(0.3958333333333333, 0.5833333333333334)</td>\n",
       "      <td>0.395833</td>\n",
       "      <td>0.583333</td>\n",
       "      <td>positive feedback</td>\n",
       "    </tr>\n",
       "    <tr>\n",
       "      <th>4</th>\n",
       "      <td>your app keeps writing network failure all the...</td>\n",
       "      <td>16.6.1</td>\n",
       "      <td>1</td>\n",
       "      <td>2024-11-19 09:54:06</td>\n",
       "      <td>1</td>\n",
       "      <td>your app keeps writing network failure all the...</td>\n",
       "      <td>(0.12777777777777777, 0.43333333333333335)</td>\n",
       "      <td>0.127778</td>\n",
       "      <td>0.433333</td>\n",
       "      <td>positive feedback</td>\n",
       "    </tr>\n",
       "    <tr>\n",
       "      <th>87</th>\n",
       "      <td>great app and all but of recent anytime i log ...</td>\n",
       "      <td>16.6.1</td>\n",
       "      <td>2</td>\n",
       "      <td>2024-11-18 17:12:05</td>\n",
       "      <td>0</td>\n",
       "      <td>great app and all but of recent anytime i log ...</td>\n",
       "      <td>(0.4, 0.5)</td>\n",
       "      <td>0.400000</td>\n",
       "      <td>0.500000</td>\n",
       "      <td>positive feedback</td>\n",
       "    </tr>\n",
       "    <tr>\n",
       "      <th>11</th>\n",
       "      <td>buying from jumia has eased my stress. i don't...</td>\n",
       "      <td>16.6.1</td>\n",
       "      <td>4</td>\n",
       "      <td>2024-11-18 16:08:45</td>\n",
       "      <td>0</td>\n",
       "      <td>buying from jumia has eased my stress. i don't...</td>\n",
       "      <td>(0.2916666666666667, 0.5416666666666666)</td>\n",
       "      <td>0.291667</td>\n",
       "      <td>0.541667</td>\n",
       "      <td>positive feedback</td>\n",
       "    </tr>\n",
       "    <tr>\n",
       "      <th>34</th>\n",
       "      <td>inability to access the app as it keeps giving...</td>\n",
       "      <td>16.6.1</td>\n",
       "      <td>1</td>\n",
       "      <td>2024-11-17 20:04:01</td>\n",
       "      <td>0</td>\n",
       "      <td>inability to access the app as it keeps giving...</td>\n",
       "      <td>(0.8, 0.75)</td>\n",
       "      <td>0.800000</td>\n",
       "      <td>0.750000</td>\n",
       "      <td>positive feedback</td>\n",
       "    </tr>\n",
       "    <tr>\n",
       "      <th>60</th>\n",
       "      <td>nice app... but haven't been able to access th...</td>\n",
       "      <td>16.6.1</td>\n",
       "      <td>4</td>\n",
       "      <td>2024-11-17 19:38:46</td>\n",
       "      <td>0</td>\n",
       "      <td>nice app... but haven't been able to access th...</td>\n",
       "      <td>(0.55, 0.8125)</td>\n",
       "      <td>0.550000</td>\n",
       "      <td>0.812500</td>\n",
       "      <td>positive feedback</td>\n",
       "    </tr>\n",
       "    <tr>\n",
       "      <th>10</th>\n",
       "      <td>for almost a year,i uninstalled the app and to...</td>\n",
       "      <td>16.6.1</td>\n",
       "      <td>1</td>\n",
       "      <td>2024-11-14 02:42:29</td>\n",
       "      <td>3</td>\n",
       "      <td>for almost a year,i uninstalled the app and to...</td>\n",
       "      <td>(0.3214285714285714, 0.6026785714285714)</td>\n",
       "      <td>0.321429</td>\n",
       "      <td>0.602679</td>\n",
       "      <td>positive feedback</td>\n",
       "    </tr>\n",
       "    <tr>\n",
       "      <th>99</th>\n",
       "      <td>jumia for me for quite some years that i've be...</td>\n",
       "      <td>16.5.1</td>\n",
       "      <td>5</td>\n",
       "      <td>2024-11-13 15:04:17</td>\n",
       "      <td>0</td>\n",
       "      <td>jumia for me for quite some years that i've be...</td>\n",
       "      <td>(0.9, 0.875)</td>\n",
       "      <td>0.900000</td>\n",
       "      <td>0.875000</td>\n",
       "      <td>positive feedback</td>\n",
       "    </tr>\n",
       "    <tr>\n",
       "      <th>96</th>\n",
       "      <td>jumia is be coming 0zero this app is be coming...</td>\n",
       "      <td>16.5.1</td>\n",
       "      <td>1</td>\n",
       "      <td>2024-11-13 09:14:15</td>\n",
       "      <td>0</td>\n",
       "      <td>jumia is be coming 0zero this app is be coming...</td>\n",
       "      <td>(0.3833333333333333, 0.5499999999999999)</td>\n",
       "      <td>0.383333</td>\n",
       "      <td>0.550000</td>\n",
       "      <td>positive feedback</td>\n",
       "    </tr>\n",
       "    <tr>\n",
       "      <th>15</th>\n",
       "      <td>i've been a loyal jumia customer for five year...</td>\n",
       "      <td>16.5.1</td>\n",
       "      <td>5</td>\n",
       "      <td>2024-11-12 10:42:20</td>\n",
       "      <td>30</td>\n",
       "      <td>i've been a loyal jumia customer for five year...</td>\n",
       "      <td>(0.4666666666666667, 0.6541666666666667)</td>\n",
       "      <td>0.466667</td>\n",
       "      <td>0.654167</td>\n",
       "      <td>positive feedback</td>\n",
       "    </tr>\n",
       "  </tbody>\n",
       "</table>\n",
       "</div>"
      ],
      "text/plain": [
       "                                              content reviewCreatedVersion  \\\n",
       "12  the app is good for shopping and the tracking ...               16.6.1   \n",
       "4   your app keeps writing network failure all the...               16.6.1   \n",
       "87  great app and all but of recent anytime i log ...               16.6.1   \n",
       "11  buying from jumia has eased my stress. i don't...               16.6.1   \n",
       "34  inability to access the app as it keeps giving...               16.6.1   \n",
       "60  nice app... but haven't been able to access th...               16.6.1   \n",
       "10  for almost a year,i uninstalled the app and to...               16.6.1   \n",
       "99  jumia for me for quite some years that i've be...               16.5.1   \n",
       "96  jumia is be coming 0zero this app is be coming...               16.5.1   \n",
       "15  i've been a loyal jumia customer for five year...               16.5.1   \n",
       "\n",
       "    score    Review_timestamp  thumbsUpCount  \\\n",
       "12      2 2024-11-19 19:44:41              1   \n",
       "4       1 2024-11-19 09:54:06              1   \n",
       "87      2 2024-11-18 17:12:05              0   \n",
       "11      4 2024-11-18 16:08:45              0   \n",
       "34      1 2024-11-17 20:04:01              0   \n",
       "60      4 2024-11-17 19:38:46              0   \n",
       "10      1 2024-11-14 02:42:29              3   \n",
       "99      5 2024-11-13 15:04:17              0   \n",
       "96      1 2024-11-13 09:14:15              0   \n",
       "15      5 2024-11-12 10:42:20             30   \n",
       "\n",
       "                                     extracted_emojis  \\\n",
       "12  the app is good for shopping and the tracking ...   \n",
       "4   your app keeps writing network failure all the...   \n",
       "87  great app and all but of recent anytime i log ...   \n",
       "11  buying from jumia has eased my stress. i don't...   \n",
       "34  inability to access the app as it keeps giving...   \n",
       "60  nice app... but haven't been able to access th...   \n",
       "10  for almost a year,i uninstalled the app and to...   \n",
       "99  jumia for me for quite some years that i've be...   \n",
       "96  jumia is be coming 0zero this app is be coming...   \n",
       "15  i've been a loyal jumia customer for five year...   \n",
       "\n",
       "                               Sentiment_score  polarity  subjectivity  \\\n",
       "12    (0.3958333333333333, 0.5833333333333334)  0.395833      0.583333   \n",
       "4   (0.12777777777777777, 0.43333333333333335)  0.127778      0.433333   \n",
       "87                                  (0.4, 0.5)  0.400000      0.500000   \n",
       "11    (0.2916666666666667, 0.5416666666666666)  0.291667      0.541667   \n",
       "34                                 (0.8, 0.75)  0.800000      0.750000   \n",
       "60                              (0.55, 0.8125)  0.550000      0.812500   \n",
       "10    (0.3214285714285714, 0.6026785714285714)  0.321429      0.602679   \n",
       "99                                (0.9, 0.875)  0.900000      0.875000   \n",
       "96    (0.3833333333333333, 0.5499999999999999)  0.383333      0.550000   \n",
       "15    (0.4666666666666667, 0.6541666666666667)  0.466667      0.654167   \n",
       "\n",
       "             feedback  \n",
       "12  positive feedback  \n",
       "4   positive feedback  \n",
       "87  positive feedback  \n",
       "11  positive feedback  \n",
       "34  positive feedback  \n",
       "60  positive feedback  \n",
       "10  positive feedback  \n",
       "99  positive feedback  \n",
       "96  positive feedback  \n",
       "15  positive feedback  "
      ]
     },
     "execution_count": 111,
     "metadata": {},
     "output_type": "execute_result"
    }
   ],
   "source": [
    "conditions = [(Jumia_pointsort_data['polarity'] < 0),(Jumia_pointsort_data['polarity'] == 0),(Jumia_pointsort_data['polarity'] > 0)]\n",
    "values = ['negative feedback', 'neutral feedback', 'positive feedback']\n",
    "Jumia_pointsort_data['feedback'] = np.select(conditions,values)\n",
    "\n",
    "Jumia_pointsort_data[Jumia_pointsort_data.polarity>0].head(10)"
   ]
  },
  {
   "cell_type": "markdown",
   "id": "6b066bbf",
   "metadata": {},
   "source": [
    "\n",
    "#### What are the main issues or complaints highlighted by customers in their negative feedback?"
   ]
  },
  {
   "cell_type": "code",
   "execution_count": 112,
   "id": "4a733ba5",
   "metadata": {},
   "outputs": [
    {
     "data": {
      "text/html": [
       "<div>\n",
       "<style scoped>\n",
       "    .dataframe tbody tr th:only-of-type {\n",
       "        vertical-align: middle;\n",
       "    }\n",
       "\n",
       "    .dataframe tbody tr th {\n",
       "        vertical-align: top;\n",
       "    }\n",
       "\n",
       "    .dataframe thead th {\n",
       "        text-align: right;\n",
       "    }\n",
       "</style>\n",
       "<table border=\"1\" class=\"dataframe\">\n",
       "  <thead>\n",
       "    <tr style=\"text-align: right;\">\n",
       "      <th></th>\n",
       "      <th>content</th>\n",
       "      <th>reviewCreatedVersion</th>\n",
       "      <th>score</th>\n",
       "      <th>Review_timestamp</th>\n",
       "      <th>thumbsUpCount</th>\n",
       "      <th>extracted_emojis</th>\n",
       "      <th>Sentiment_score</th>\n",
       "      <th>polarity</th>\n",
       "      <th>subjectivity</th>\n",
       "      <th>feedback</th>\n",
       "    </tr>\n",
       "  </thead>\n",
       "  <tbody>\n",
       "    <tr>\n",
       "      <th>5</th>\n",
       "      <td>i had a terrible experience with jumia. i orde...</td>\n",
       "      <td>16.6.1</td>\n",
       "      <td>1</td>\n",
       "      <td>2024-11-19 16:30:38</td>\n",
       "      <td>1</td>\n",
       "      <td>i had a terrible experience with jumia. i orde...</td>\n",
       "      <td>(-0.5416666666666666, 0.525)</td>\n",
       "      <td>-0.541667</td>\n",
       "      <td>0.525000</td>\n",
       "      <td>negative feedback</td>\n",
       "    </tr>\n",
       "    <tr>\n",
       "      <th>72</th>\n",
       "      <td>worst app ever, i've been trying to sign up fo...</td>\n",
       "      <td>16.4.1</td>\n",
       "      <td>1</td>\n",
       "      <td>2024-11-19 09:11:48</td>\n",
       "      <td>0</td>\n",
       "      <td>worst app ever, i've been trying to sign up fo...</td>\n",
       "      <td>(-0.41, 0.6716666666666666)</td>\n",
       "      <td>-0.410000</td>\n",
       "      <td>0.671667</td>\n",
       "      <td>negative feedback</td>\n",
       "    </tr>\n",
       "    <tr>\n",
       "      <th>78</th>\n",
       "      <td>neutral at least they keep to their words... i...</td>\n",
       "      <td>16.6.1</td>\n",
       "      <td>3</td>\n",
       "      <td>2024-11-17 00:26:21</td>\n",
       "      <td>0</td>\n",
       "      <td>neutral at least they keep to their words... i...</td>\n",
       "      <td>(-0.09999999999999999, 0.7999999999999999)</td>\n",
       "      <td>-0.100000</td>\n",
       "      <td>0.800000</td>\n",
       "      <td>negative feedback</td>\n",
       "    </tr>\n",
       "    <tr>\n",
       "      <th>23</th>\n",
       "      <td>jumia service delivery have become absolutely ...</td>\n",
       "      <td>16.5.1</td>\n",
       "      <td>2</td>\n",
       "      <td>2024-11-14 08:01:43</td>\n",
       "      <td>0</td>\n",
       "      <td>jumia service delivery have become absolutely ...</td>\n",
       "      <td>(-0.38, 0.5433333333333333)</td>\n",
       "      <td>-0.380000</td>\n",
       "      <td>0.543333</td>\n",
       "      <td>negative feedback</td>\n",
       "    </tr>\n",
       "    <tr>\n",
       "      <th>21</th>\n",
       "      <td>i like the concept of the app and i've made qu...</td>\n",
       "      <td>16.5.1</td>\n",
       "      <td>4</td>\n",
       "      <td>2024-11-13 15:09:07</td>\n",
       "      <td>0</td>\n",
       "      <td>i like the concept of the app and i've made qu...</td>\n",
       "      <td>(-0.29, 0.5700000000000001)</td>\n",
       "      <td>-0.290000</td>\n",
       "      <td>0.570000</td>\n",
       "      <td>negative feedback</td>\n",
       "    </tr>\n",
       "  </tbody>\n",
       "</table>\n",
       "</div>"
      ],
      "text/plain": [
       "                                              content reviewCreatedVersion  \\\n",
       "5   i had a terrible experience with jumia. i orde...               16.6.1   \n",
       "72  worst app ever, i've been trying to sign up fo...               16.4.1   \n",
       "78  neutral at least they keep to their words... i...               16.6.1   \n",
       "23  jumia service delivery have become absolutely ...               16.5.1   \n",
       "21  i like the concept of the app and i've made qu...               16.5.1   \n",
       "\n",
       "    score    Review_timestamp  thumbsUpCount  \\\n",
       "5       1 2024-11-19 16:30:38              1   \n",
       "72      1 2024-11-19 09:11:48              0   \n",
       "78      3 2024-11-17 00:26:21              0   \n",
       "23      2 2024-11-14 08:01:43              0   \n",
       "21      4 2024-11-13 15:09:07              0   \n",
       "\n",
       "                                     extracted_emojis  \\\n",
       "5   i had a terrible experience with jumia. i orde...   \n",
       "72  worst app ever, i've been trying to sign up fo...   \n",
       "78  neutral at least they keep to their words... i...   \n",
       "23  jumia service delivery have become absolutely ...   \n",
       "21  i like the concept of the app and i've made qu...   \n",
       "\n",
       "                               Sentiment_score  polarity  subjectivity  \\\n",
       "5                 (-0.5416666666666666, 0.525) -0.541667      0.525000   \n",
       "72                 (-0.41, 0.6716666666666666) -0.410000      0.671667   \n",
       "78  (-0.09999999999999999, 0.7999999999999999) -0.100000      0.800000   \n",
       "23                 (-0.38, 0.5433333333333333) -0.380000      0.543333   \n",
       "21                 (-0.29, 0.5700000000000001) -0.290000      0.570000   \n",
       "\n",
       "             feedback  \n",
       "5   negative feedback  \n",
       "72  negative feedback  \n",
       "78  negative feedback  \n",
       "23  negative feedback  \n",
       "21  negative feedback  "
      ]
     },
     "execution_count": 112,
     "metadata": {},
     "output_type": "execute_result"
    }
   ],
   "source": [
    "subject_matter = Jumia_pointsort_data[Jumia_pointsort_data.subjectivity>0.5]\n",
    "negative_subject_matter = subject_matter[subject_matter.polarity < 0]\n",
    "negative_subject_matter.head()"
   ]
  },
  {
   "cell_type": "code",
   "execution_count": 113,
   "id": "315f8817",
   "metadata": {},
   "outputs": [
    {
     "name": "stdout",
     "output_type": "stream",
     "text": [
      "positive feedback    0.57\n",
      "negative feedback    0.37\n",
      "neutral feedback     0.06\n",
      "Name: feedback, dtype: float64\n"
     ]
    },
    {
     "data": {
      "text/plain": [
       "Text(0.5, 1.0, 'Jumia feedback rate')"
      ]
     },
     "execution_count": 113,
     "metadata": {},
     "output_type": "execute_result"
    },
    {
     "data": {
      "image/png": "[encoded data removed]",
      "text/plain": [
       "<Figure size 640x480 with 1 Axes>"
      ]
     },
     "metadata": {},
     "output_type": "display_data"
    }
   ],
   "source": [
    "print(Jumia_pointsort_data['feedback'].value_counts(normalize=True))\n",
    "Feedback_rate =  Jumia_pointsort_data['feedback'].value_counts(normalize=True).plot(kind=\"bar\")\n",
    "for i in Feedback_rate.patches:\n",
    "  Feedback_rate.annotate('{:.1f}'.format(i.get_height()), (i.get_x()+0.25, i.get_height()+0.01))\n",
    "plt.title('Jumia feedback rate')"
   ]
  },
  {
   "cell_type": "code",
   "execution_count": 114,
   "id": "039aee5e",
   "metadata": {},
   "outputs": [
    {
     "name": "stdout",
     "output_type": "stream",
     "text": [
      "positive feedback    57\n",
      "negative feedback    37\n",
      "neutral feedback      6\n",
      "Name: feedback, dtype: int64\n"
     ]
    },
    {
     "data": {
      "image/png": "[encoded data removed]",
      "text/plain": [
       "<Figure size 640x480 with 1 Axes>"
      ]
     },
     "metadata": {},
     "output_type": "display_data"
    }
   ],
   "source": [
    "print(Jumia_pointsort_data['feedback'].value_counts())\n",
    "Feedback_value = sns.countplot(x='feedback', data = Jumia_pointsort_data)\n",
    "for i in Feedback_value.patches:\n",
    "  Feedback_value.annotate('{:.1f}'.format(i.get_height()), (i.get_x()+0.25, i.get_height()+0.01))\n",
    "plt.title('Jumia feedback count');"
   ]
  },
  {
   "cell_type": "markdown",
   "id": "769b2db8",
   "metadata": {},
   "source": [
    "##### Notes On Jumia Analysis - to be completed\n",
    "1. Which online store (Jumia, Kilimall, or Jiji) has the highest positive sentiment from customers based on recent reviews?\n",
    "The app is fast and has easened the stress of physical shopping\n",
    "2. What are the common pain points or negative experiences reported by users across these platforms?\n",
    "3. Which features or aspects of online shopping do customers most frequently praise on each platform?\n",
    "4. What actionable insights can be drawn to enhance the functionality and user experience of the new app \"X\" based on customer feedback from existing platforms? "
   ]
  },
  {
   "cell_type": "markdown",
   "id": "765d7c80",
   "metadata": {},
   "source": [
    "### KILIMALL - DATA PREPROCESSING\n",
    "#### Lowercasing - this is to maintain consistency of data"
   ]
  },
  {
   "cell_type": "code",
   "execution_count": 153,
   "id": "389e7014",
   "metadata": {},
   "outputs": [
    {
     "data": {
      "text/plain": [
       "pandas.core.series.Series"
      ]
     },
     "execution_count": 153,
     "metadata": {},
     "output_type": "execute_result"
    }
   ],
   "source": [
    "# check data type of content and change to str\n",
    "type(Kilimall_pointsort_data[\"content\"])\n"
   ]
  },
  {
   "cell_type": "code",
   "execution_count": 154,
   "id": "42d6d479",
   "metadata": {},
   "outputs": [
    {
     "name": "stdout",
     "output_type": "stream",
     "text": [
      "256                   very fast delivery. I enjoyed it 3\n",
      "41     Best online shopping app, delivery on time,you...\n",
      "4      It is great app i love it when shopping it is ...\n",
      "237    kilimall to the world the best online shopping...\n",
      "214                      Very fast and good shopping app\n",
      "127    affordable quality products and fast delivery ...\n",
      "238                          Reliable app secure payment\n",
      "229                          Very nice shopping platform\n",
      "164          Excellent service and the product is super.\n",
      "2      I really appreciate your customer service. I w...\n",
      "103    this is the most trusted online shopping app w...\n",
      "230                    Very good app for shopping online\n",
      "764                               Good site for shopping\n",
      "457    I dint took my last parcel..was broken and inc...\n",
      "248       Always satisfied with my orders,thanks kilimal\n",
      "29     Great shopping app. Very good prices, and seam...\n",
      "34     l like the product since it's of high quality ...\n",
      "739                                  it very easy to fix\n",
      "244    've been a customer to kilimall for some years...\n",
      "105          incredibly all-around service and products.\n",
      "Name: content, dtype: object\n"
     ]
    }
   ],
   "source": [
    "#convert to str\n",
    "Kilimall_pointsort_data['content'] = Kilimall_pointsort_data['content'].astype(str)\n",
    "print(Kilimall_pointsort_data['content'].head(20))  \n"
   ]
  },
  {
   "cell_type": "code",
   "execution_count": 155,
   "id": "1aca79b4",
   "metadata": {},
   "outputs": [
    {
     "name": "stdout",
     "output_type": "stream",
     "text": [
      "256                   very fast delivery. i enjoyed it 3\n",
      "41     best online shopping app, delivery on time,you...\n",
      "4      it is great app i love it when shopping it is ...\n",
      "237    kilimall to the world the best online shopping...\n",
      "214                      very fast and good shopping app\n",
      "Name: content, dtype: object\n"
     ]
    }
   ],
   "source": [
    "#Lowercase all reviews\n",
    "\n",
    "Kilimall_pointsort_data['content'] = Kilimall_pointsort_data['content'].apply(lambda x: x.lower())\n",
    "print(Kilimall_pointsort_data['content'].head()) \n",
    "\n",
    "# Most of the reviews are already in lowercase so can see the difference if we look at the whole dataset.\n"
   ]
  },
  {
   "cell_type": "markdown",
   "id": "a2376f12",
   "metadata": {},
   "source": [
    "### Emojis"
   ]
  },
  {
   "cell_type": "code",
   "execution_count": 164,
   "id": "c354f43d",
   "metadata": {},
   "outputs": [
    {
     "name": "stdout",
     "output_type": "stream",
     "text": [
      "True\n",
      "it's my shoping app, really like kilimall\n"
     ]
    }
   ],
   "source": [
    "#check if there is any special character\n",
    "alphabet = string.ascii_letters+string.punctuation\n",
    "print(Kilimall_pointsort_data.content.str.strip(alphabet).astype(bool).any())\n",
    "\n",
    "extracted_emojis=[]\n",
    "\n",
    "def extract_emojis(s):\n",
    "  expe = re.compile('[\\U00010000-\\U0010ffff]', flags=re.UNICODE)\n",
    "  #return expe.findall(s)\n",
    "  return expe.sub(r'',s)\n",
    "\n",
    "\n",
    "for i in Kilimall_pointsort_data['content']:\n",
    "  #print(str(extract_emojis(y)))\n",
    "  extracted_emojis.append(str(extract_emojis(i)))\n",
    "\n",
    "print(extracted_emojis[100])    "
   ]
  },
  {
   "cell_type": "markdown",
   "id": "27d40d49",
   "metadata": {},
   "source": [
    "### Stopwords"
   ]
  },
  {
   "cell_type": "code",
   "execution_count": 157,
   "id": "e24954e4",
   "metadata": {},
   "outputs": [
    {
     "name": "stdout",
     "output_type": "stream",
     "text": [
      "256                   very fast delivery. i enjoyed it 3\n",
      "41     best online shopping app, delivery on time,you...\n",
      "4      it is great app i love it when shopping it is ...\n",
      "237    kilimall to the world the best online shopping...\n",
      "214                      very fast and good shopping app\n",
      "Name: extracted_emojis, dtype: object\n"
     ]
    }
   ],
   "source": [
    "# removing stop words\n",
    "stop_words = stopwords.words('english')\n",
    "Kilimall_pointsort_data[\"extracted_emojis\"] = extracted_emojis\n",
    "Kilimall_pointsort_data[\"extracted_emojis\"] = Kilimall_pointsort_data[\"extracted_emojis\"].apply(lambda x:x if x not in stop_words else None)\n",
    "print(Kilimall_pointsort_data['extracted_emojis'].head())"
   ]
  },
  {
   "cell_type": "markdown",
   "id": "6fd37a1f",
   "metadata": {},
   "source": [
    "### Stemming"
   ]
  },
  {
   "cell_type": "code",
   "execution_count": 158,
   "id": "ab2ccf69",
   "metadata": {},
   "outputs": [
    {
     "name": "stdout",
     "output_type": "stream",
     "text": [
      "256                   very fast delivery. i enjoyed it 3\n",
      "41     best online shopping app, delivery on time,you...\n",
      "4      it is great app i love it when shopping it is ...\n",
      "237    kilimall to the world the best online shopping...\n",
      "214                      very fast and good shopping app\n",
      "Name: extracted_emojis, dtype: object\n"
     ]
    }
   ],
   "source": [
    "from nltk.stem.snowball import PorterStemmer\n",
    "#stemming\n",
    "def stemming(x):\n",
    "  st = PorterStemmer()\n",
    "  if x is not None:\n",
    "    for word in x.split():\n",
    "      st.stem(word)\n",
    "\n",
    "\n",
    "Kilimall_pointsort_data['extracted_emojis'].apply(lambda x: stemming(x))\n",
    "print(Kilimall_pointsort_data['extracted_emojis'].head())      \n",
    "     "
   ]
  },
  {
   "cell_type": "markdown",
   "id": "4753ac0a",
   "metadata": {},
   "source": [
    "### KILIMALL SENTIMENT ANALYSIS"
   ]
  },
  {
   "cell_type": "code",
   "execution_count": 161,
   "id": "5a1ce3a0",
   "metadata": {},
   "outputs": [
    {
     "name": "stdout",
     "output_type": "stream",
     "text": [
      "                                      extracted_emojis  \\\n",
      "0    my no.1 online shopping shop i’ve been using k...   \n",
      "596  good multifunctional machine working nicely ,l...   \n",
      "627  kilimall is the best online market that delive...   \n",
      "871                        it's very fast and friendly   \n",
      "629  i like killmall it's amazing and have real sav...   \n",
      "..                                                 ...   \n",
      "152  its the best app ever, been using it for awhil...   \n",
      "494  kilimall is the best....tis affordable if you ...   \n",
      "983  amazing you guys are the best always now and f...   \n",
      "476  delivered on time,i like the item well package...   \n",
      "19   i have a problem with your return policy why c...   \n",
      "\n",
      "                                Sentiment_score  \n",
      "0      (0.2972222222222223, 0.4694444444444445)  \n",
      "596               (-0.265, 0.42250000000000004)  \n",
      "627                  (0.30000000000000004, 0.4)  \n",
      "871    (0.7333333333333334, 0.5333333333333333)  \n",
      "629   (-0.8499999999999999, 0.8333333333333333)  \n",
      "..                                          ...  \n",
      "152                  (0.1, 0.23333333333333334)  \n",
      "494   (0.10437499999999997, 0.5349999999999999)  \n",
      "983    (0.9099999999999999, 0.7800000000000001)  \n",
      "476  (-0.23333333333333328, 0.2638888888888889)  \n",
      "19    (0.27878787878787875, 0.7848484848484848)  \n",
      "\n",
      "[119 rows x 2 columns]\n"
     ]
    }
   ],
   "source": [
    "#Function to calculate sentiment score for whole data set\n",
    "\n",
    "def senti_sc(x):\n",
    "    if x is not None:\n",
    "       return TextBlob(x).sentiment\n",
    "\n",
    "Kilimall_pointsort_data[\"Sentiment_score\"]= Jumia_pointsort_data[\"extracted_emojis\"].apply(senti_sc)\n",
    "print(Kilimall_pointsort_data.loc[0:19,['extracted_emojis','Sentiment_score']])\n",
    "\n"
   ]
  },
  {
   "cell_type": "code",
   "execution_count": 165,
   "id": "8e321752",
   "metadata": {},
   "outputs": [
    {
     "data": {
      "text/plain": [
       "Sentiment(polarity=0.2972222222222223, subjectivity=0.4694444444444445)"
      ]
     },
     "execution_count": 165,
     "metadata": {},
     "output_type": "execute_result"
    }
   ],
   "source": [
    "#for i in \n",
    "Kilimall_pointsort_data['Sentiment_score'][0]"
   ]
  },
  {
   "cell_type": "code",
   "execution_count": 166,
   "id": "62bdda16",
   "metadata": {},
   "outputs": [],
   "source": [
    "from textblob.en import subjectivity\n",
    "polarity=[]\n",
    "subjectivity = []\n",
    "for i in Kilimall_pointsort_data['extracted_emojis'].values:\n",
    "  try:\n",
    "    analysis = TextBlob(i)\n",
    "    polarity.append(analysis.sentiment.polarity)\n",
    "    subjectivity.append(analysis.sentiment.subjectivity)\n",
    "    \n",
    "  except:\n",
    "     polarity.append(0)\n",
    "     subjectivity.append(0) "
   ]
  },
  {
   "cell_type": "code",
   "execution_count": 167,
   "id": "2de5d1ee",
   "metadata": {},
   "outputs": [],
   "source": [
    "Kilimall_pointsort_data['polarity'] = polarity\n",
    "Kilimall_pointsort_data['subjectivity'] = subjectivity\n"
   ]
  },
  {
   "cell_type": "code",
   "execution_count": 169,
   "id": "8fd85fc8",
   "metadata": {},
   "outputs": [
    {
     "name": "stderr",
     "output_type": "stream",
     "text": [
      "C:\\Users\\HP\\AppData\\Local\\Temp\\ipykernel_2248\\1587478942.py:5: UserWarning: Boolean Series key will be reindexed to match DataFrame index.\n",
      "  Kilimall_pointsort_data[Jumia_pointsort_data.polarity>0].head(10)\n"
     ]
    },
    {
     "data": {
      "text/html": [
       "<div>\n",
       "<style scoped>\n",
       "    .dataframe tbody tr th:only-of-type {\n",
       "        vertical-align: middle;\n",
       "    }\n",
       "\n",
       "    .dataframe tbody tr th {\n",
       "        vertical-align: top;\n",
       "    }\n",
       "\n",
       "    .dataframe thead th {\n",
       "        text-align: right;\n",
       "    }\n",
       "</style>\n",
       "<table border=\"1\" class=\"dataframe\">\n",
       "  <thead>\n",
       "    <tr style=\"text-align: right;\">\n",
       "      <th></th>\n",
       "      <th>content</th>\n",
       "      <th>reviewCreatedVersion</th>\n",
       "      <th>score</th>\n",
       "      <th>at</th>\n",
       "      <th>thumbsUpCount</th>\n",
       "      <th>extracted_emojis</th>\n",
       "      <th>Sentiment_score</th>\n",
       "      <th>polarity</th>\n",
       "      <th>subjectivity</th>\n",
       "      <th>feedback</th>\n",
       "    </tr>\n",
       "  </thead>\n",
       "  <tbody>\n",
       "    <tr>\n",
       "      <th>256</th>\n",
       "      <td>very fast delivery. i enjoyed it 3</td>\n",
       "      <td>5.6.2</td>\n",
       "      <td>5</td>\n",
       "      <td>2024-11-15 21:53:36</td>\n",
       "      <td>0</td>\n",
       "      <td>very fast delivery. i enjoyed it 3</td>\n",
       "      <td>(0.32708333333333334, 0.7416666666666667)</td>\n",
       "      <td>0.380000</td>\n",
       "      <td>0.740000</td>\n",
       "      <td>positive feedback</td>\n",
       "    </tr>\n",
       "    <tr>\n",
       "      <th>41</th>\n",
       "      <td>best online shopping app, delivery on time,you...</td>\n",
       "      <td>5.6.2</td>\n",
       "      <td>5</td>\n",
       "      <td>2024-11-15 21:46:30</td>\n",
       "      <td>0</td>\n",
       "      <td>best online shopping app, delivery on time,you...</td>\n",
       "      <td>(0.28214285714285714, 0.4642857142857143)</td>\n",
       "      <td>1.000000</td>\n",
       "      <td>0.300000</td>\n",
       "      <td>positive feedback</td>\n",
       "    </tr>\n",
       "    <tr>\n",
       "      <th>237</th>\n",
       "      <td>kilimall to the world the best online shopping...</td>\n",
       "      <td>5.6.2</td>\n",
       "      <td>5</td>\n",
       "      <td>2024-11-15 19:51:37</td>\n",
       "      <td>0</td>\n",
       "      <td>kilimall to the world the best online shopping...</td>\n",
       "      <td>(0.24500000000000002, 0.31142857142857144)</td>\n",
       "      <td>0.700000</td>\n",
       "      <td>0.500000</td>\n",
       "      <td>positive feedback</td>\n",
       "    </tr>\n",
       "    <tr>\n",
       "      <th>238</th>\n",
       "      <td>reliable app secure payment</td>\n",
       "      <td>5.6.2</td>\n",
       "      <td>5</td>\n",
       "      <td>2024-11-15 07:58:00</td>\n",
       "      <td>0</td>\n",
       "      <td>reliable app secure payment</td>\n",
       "      <td>(0.34750000000000003, 0.675)</td>\n",
       "      <td>0.400000</td>\n",
       "      <td>0.600000</td>\n",
       "      <td>positive feedback</td>\n",
       "    </tr>\n",
       "    <tr>\n",
       "      <th>229</th>\n",
       "      <td>very nice shopping platform</td>\n",
       "      <td>5.6.2</td>\n",
       "      <td>5</td>\n",
       "      <td>2024-11-15 06:46:52</td>\n",
       "      <td>0</td>\n",
       "      <td>very nice shopping platform</td>\n",
       "      <td>(0.1, 0.6)</td>\n",
       "      <td>0.780000</td>\n",
       "      <td>1.000000</td>\n",
       "      <td>positive feedback</td>\n",
       "    </tr>\n",
       "    <tr>\n",
       "      <th>2</th>\n",
       "      <td>i really appreciate your customer service. i w...</td>\n",
       "      <td>5.6.2</td>\n",
       "      <td>5</td>\n",
       "      <td>2024-11-14 20:09:32</td>\n",
       "      <td>0</td>\n",
       "      <td>i really appreciate your customer service. i w...</td>\n",
       "      <td>(0.025, 0.325)</td>\n",
       "      <td>0.200000</td>\n",
       "      <td>0.250000</td>\n",
       "      <td>positive feedback</td>\n",
       "    </tr>\n",
       "    <tr>\n",
       "      <th>230</th>\n",
       "      <td>very good app for shopping online</td>\n",
       "      <td>5.6.2</td>\n",
       "      <td>5</td>\n",
       "      <td>2024-11-14 18:48:12</td>\n",
       "      <td>0</td>\n",
       "      <td>very good app for shopping online</td>\n",
       "      <td>(0.32159090909090904, 0.5198863636363636)</td>\n",
       "      <td>0.910000</td>\n",
       "      <td>0.780000</td>\n",
       "      <td>positive feedback</td>\n",
       "    </tr>\n",
       "    <tr>\n",
       "      <th>764</th>\n",
       "      <td>good site for shopping</td>\n",
       "      <td>5.6.2</td>\n",
       "      <td>4</td>\n",
       "      <td>2024-11-14 18:39:34</td>\n",
       "      <td>0</td>\n",
       "      <td>good site for shopping</td>\n",
       "      <td>(0.425, 0.5)</td>\n",
       "      <td>0.700000</td>\n",
       "      <td>0.600000</td>\n",
       "      <td>positive feedback</td>\n",
       "    </tr>\n",
       "    <tr>\n",
       "      <th>457</th>\n",
       "      <td>i dint took my last parcel..was broken and inc...</td>\n",
       "      <td>5.6.2</td>\n",
       "      <td>1</td>\n",
       "      <td>2024-11-14 13:27:50</td>\n",
       "      <td>0</td>\n",
       "      <td>i dint took my last parcel..was broken and inc...</td>\n",
       "      <td>(0.16666666666666666, 0.19444444444444445)</td>\n",
       "      <td>-0.133333</td>\n",
       "      <td>0.155556</td>\n",
       "      <td>negative feedback</td>\n",
       "    </tr>\n",
       "    <tr>\n",
       "      <th>248</th>\n",
       "      <td>always satisfied with my orders,thanks kilimal</td>\n",
       "      <td>5.6.2</td>\n",
       "      <td>5</td>\n",
       "      <td>2024-11-14 10:27:49</td>\n",
       "      <td>0</td>\n",
       "      <td>always satisfied with my orders,thanks kilimal</td>\n",
       "      <td>(0.06964285714285715, 0.4857142857142857)</td>\n",
       "      <td>0.500000</td>\n",
       "      <td>1.000000</td>\n",
       "      <td>positive feedback</td>\n",
       "    </tr>\n",
       "  </tbody>\n",
       "</table>\n",
       "</div>"
      ],
      "text/plain": [
       "                                               content reviewCreatedVersion  \\\n",
       "256                 very fast delivery. i enjoyed it 3                5.6.2   \n",
       "41   best online shopping app, delivery on time,you...                5.6.2   \n",
       "237  kilimall to the world the best online shopping...                5.6.2   \n",
       "238                        reliable app secure payment                5.6.2   \n",
       "229                        very nice shopping platform                5.6.2   \n",
       "2    i really appreciate your customer service. i w...                5.6.2   \n",
       "230                  very good app for shopping online                5.6.2   \n",
       "764                             good site for shopping                5.6.2   \n",
       "457  i dint took my last parcel..was broken and inc...                5.6.2   \n",
       "248     always satisfied with my orders,thanks kilimal                5.6.2   \n",
       "\n",
       "     score                  at  thumbsUpCount  \\\n",
       "256      5 2024-11-15 21:53:36              0   \n",
       "41       5 2024-11-15 21:46:30              0   \n",
       "237      5 2024-11-15 19:51:37              0   \n",
       "238      5 2024-11-15 07:58:00              0   \n",
       "229      5 2024-11-15 06:46:52              0   \n",
       "2        5 2024-11-14 20:09:32              0   \n",
       "230      5 2024-11-14 18:48:12              0   \n",
       "764      4 2024-11-14 18:39:34              0   \n",
       "457      1 2024-11-14 13:27:50              0   \n",
       "248      5 2024-11-14 10:27:49              0   \n",
       "\n",
       "                                      extracted_emojis  \\\n",
       "256                 very fast delivery. i enjoyed it 3   \n",
       "41   best online shopping app, delivery on time,you...   \n",
       "237  kilimall to the world the best online shopping...   \n",
       "238                        reliable app secure payment   \n",
       "229                        very nice shopping platform   \n",
       "2    i really appreciate your customer service. i w...   \n",
       "230                  very good app for shopping online   \n",
       "764                             good site for shopping   \n",
       "457  i dint took my last parcel..was broken and inc...   \n",
       "248     always satisfied with my orders,thanks kilimal   \n",
       "\n",
       "                                Sentiment_score  polarity  subjectivity  \\\n",
       "256   (0.32708333333333334, 0.7416666666666667)  0.380000      0.740000   \n",
       "41    (0.28214285714285714, 0.4642857142857143)  1.000000      0.300000   \n",
       "237  (0.24500000000000002, 0.31142857142857144)  0.700000      0.500000   \n",
       "238                (0.34750000000000003, 0.675)  0.400000      0.600000   \n",
       "229                                  (0.1, 0.6)  0.780000      1.000000   \n",
       "2                                (0.025, 0.325)  0.200000      0.250000   \n",
       "230   (0.32159090909090904, 0.5198863636363636)  0.910000      0.780000   \n",
       "764                                (0.425, 0.5)  0.700000      0.600000   \n",
       "457  (0.16666666666666666, 0.19444444444444445) -0.133333      0.155556   \n",
       "248   (0.06964285714285715, 0.4857142857142857)  0.500000      1.000000   \n",
       "\n",
       "              feedback  \n",
       "256  positive feedback  \n",
       "41   positive feedback  \n",
       "237  positive feedback  \n",
       "238  positive feedback  \n",
       "229  positive feedback  \n",
       "2    positive feedback  \n",
       "230  positive feedback  \n",
       "764  positive feedback  \n",
       "457  negative feedback  \n",
       "248  positive feedback  "
      ]
     },
     "execution_count": 169,
     "metadata": {},
     "output_type": "execute_result"
    }
   ],
   "source": [
    "conditions = [(Kilimall_pointsort_data['polarity'] < 0),(Kilimall_pointsort_data['polarity'] == 0),(Kilimall_pointsort_data['polarity'] > 0)]\n",
    "values = ['negative feedback', 'neutral feedback', 'positive feedback']\n",
    "Kilimall_pointsort_data['feedback'] = np.select(conditions,values)\n",
    "\n",
    "Kilimall_pointsort_data[Jumia_pointsort_data.polarity>0].head(10)"
   ]
  },
  {
   "cell_type": "markdown",
   "id": "046143ff",
   "metadata": {},
   "source": [
    "#### What are the main issues or complaints highlighted by customers in their negative feedback?"
   ]
  },
  {
   "cell_type": "code",
   "execution_count": 170,
   "id": "a5bdaf3a",
   "metadata": {},
   "outputs": [
    {
     "data": {
      "text/html": [
       "<div>\n",
       "<style scoped>\n",
       "    .dataframe tbody tr th:only-of-type {\n",
       "        vertical-align: middle;\n",
       "    }\n",
       "\n",
       "    .dataframe tbody tr th {\n",
       "        vertical-align: top;\n",
       "    }\n",
       "\n",
       "    .dataframe thead th {\n",
       "        text-align: right;\n",
       "    }\n",
       "</style>\n",
       "<table border=\"1\" class=\"dataframe\">\n",
       "  <thead>\n",
       "    <tr style=\"text-align: right;\">\n",
       "      <th></th>\n",
       "      <th>content</th>\n",
       "      <th>reviewCreatedVersion</th>\n",
       "      <th>score</th>\n",
       "      <th>at</th>\n",
       "      <th>thumbsUpCount</th>\n",
       "      <th>extracted_emojis</th>\n",
       "      <th>Sentiment_score</th>\n",
       "      <th>polarity</th>\n",
       "      <th>subjectivity</th>\n",
       "      <th>feedback</th>\n",
       "    </tr>\n",
       "  </thead>\n",
       "  <tbody>\n",
       "    <tr>\n",
       "      <th>577</th>\n",
       "      <td>very bad service, poor customer service 😔. all...</td>\n",
       "      <td>5.6.2</td>\n",
       "      <td>1</td>\n",
       "      <td>2024-11-13 09:05:59</td>\n",
       "      <td>0</td>\n",
       "      <td>very bad service, poor customer service . all ...</td>\n",
       "      <td>(0.3275, 0.495)</td>\n",
       "      <td>-0.236667</td>\n",
       "      <td>0.822222</td>\n",
       "      <td>negative feedback</td>\n",
       "    </tr>\n",
       "    <tr>\n",
       "      <th>645</th>\n",
       "      <td>the flash sales are horrible 🤮🤢🤢🤢</td>\n",
       "      <td>5.6.2</td>\n",
       "      <td>1</td>\n",
       "      <td>2024-11-08 16:07:59</td>\n",
       "      <td>0</td>\n",
       "      <td>the flash sales are horrible</td>\n",
       "      <td>(0.011111111111111108, 0.7333333333333334)</td>\n",
       "      <td>-1.000000</td>\n",
       "      <td>1.000000</td>\n",
       "      <td>negative feedback</td>\n",
       "    </tr>\n",
       "    <tr>\n",
       "      <th>423</th>\n",
       "      <td>flash sale fake without ooerable system</td>\n",
       "      <td>5.6.2</td>\n",
       "      <td>1</td>\n",
       "      <td>2024-11-01 00:18:37</td>\n",
       "      <td>0</td>\n",
       "      <td>flash sale fake without ooerable system</td>\n",
       "      <td>(-0.09523809523809525, 0.3464285714285714)</td>\n",
       "      <td>-0.500000</td>\n",
       "      <td>1.000000</td>\n",
       "      <td>negative feedback</td>\n",
       "    </tr>\n",
       "    <tr>\n",
       "      <th>235</th>\n",
       "      <td>i ordered for shoes wrong shoe was delivered. ...</td>\n",
       "      <td>5.6.2</td>\n",
       "      <td>1</td>\n",
       "      <td>2024-10-29 10:41:36</td>\n",
       "      <td>1</td>\n",
       "      <td>i ordered for shoes wrong shoe was delivered. ...</td>\n",
       "      <td>(0.0, 1.0)</td>\n",
       "      <td>-0.737500</td>\n",
       "      <td>0.937500</td>\n",
       "      <td>negative feedback</td>\n",
       "    </tr>\n",
       "    <tr>\n",
       "      <th>8</th>\n",
       "      <td>worst customer service...good prices but when ...</td>\n",
       "      <td>5.6.1</td>\n",
       "      <td>1</td>\n",
       "      <td>2024-10-17 17:22:40</td>\n",
       "      <td>4</td>\n",
       "      <td>worst customer service...good prices but when ...</td>\n",
       "      <td>(0.5404761904761904, 0.6488095238095237)</td>\n",
       "      <td>-0.038333</td>\n",
       "      <td>0.541667</td>\n",
       "      <td>negative feedback</td>\n",
       "    </tr>\n",
       "  </tbody>\n",
       "</table>\n",
       "</div>"
      ],
      "text/plain": [
       "                                               content reviewCreatedVersion  \\\n",
       "577  very bad service, poor customer service 😔. all...                5.6.2   \n",
       "645                  the flash sales are horrible 🤮🤢🤢🤢                5.6.2   \n",
       "423            flash sale fake without ooerable system                5.6.2   \n",
       "235  i ordered for shoes wrong shoe was delivered. ...                5.6.2   \n",
       "8    worst customer service...good prices but when ...                5.6.1   \n",
       "\n",
       "     score                  at  thumbsUpCount  \\\n",
       "577      1 2024-11-13 09:05:59              0   \n",
       "645      1 2024-11-08 16:07:59              0   \n",
       "423      1 2024-11-01 00:18:37              0   \n",
       "235      1 2024-10-29 10:41:36              1   \n",
       "8        1 2024-10-17 17:22:40              4   \n",
       "\n",
       "                                      extracted_emojis  \\\n",
       "577  very bad service, poor customer service . all ...   \n",
       "645                      the flash sales are horrible    \n",
       "423            flash sale fake without ooerable system   \n",
       "235  i ordered for shoes wrong shoe was delivered. ...   \n",
       "8    worst customer service...good prices but when ...   \n",
       "\n",
       "                                Sentiment_score  polarity  subjectivity  \\\n",
       "577                             (0.3275, 0.495) -0.236667      0.822222   \n",
       "645  (0.011111111111111108, 0.7333333333333334) -1.000000      1.000000   \n",
       "423  (-0.09523809523809525, 0.3464285714285714) -0.500000      1.000000   \n",
       "235                                  (0.0, 1.0) -0.737500      0.937500   \n",
       "8      (0.5404761904761904, 0.6488095238095237) -0.038333      0.541667   \n",
       "\n",
       "              feedback  \n",
       "577  negative feedback  \n",
       "645  negative feedback  \n",
       "423  negative feedback  \n",
       "235  negative feedback  \n",
       "8    negative feedback  "
      ]
     },
     "execution_count": 170,
     "metadata": {},
     "output_type": "execute_result"
    }
   ],
   "source": [
    "subject_matter = Kilimall_pointsort_data[Kilimall_pointsort_data.subjectivity>0.5]\n",
    "negative_subject_matter = subject_matter[subject_matter.polarity < 0]\n",
    "negative_subject_matter.head()"
   ]
  },
  {
   "cell_type": "code",
   "execution_count": 171,
   "id": "e1b08f14",
   "metadata": {},
   "outputs": [
    {
     "name": "stdout",
     "output_type": "stream",
     "text": [
      "positive feedback    0.701\n",
      "negative feedback    0.251\n",
      "neutral feedback     0.048\n",
      "Name: feedback, dtype: float64\n"
     ]
    },
    {
     "data": {
      "text/plain": [
       "Text(0.5, 1.0, 'Kilimall feedback rate')"
      ]
     },
     "execution_count": 171,
     "metadata": {},
     "output_type": "execute_result"
    },
    {
     "data": {
      "image/png": "[encoded data removed]",
      "text/plain": [
       "<Figure size 640x480 with 1 Axes>"
      ]
     },
     "metadata": {},
     "output_type": "display_data"
    }
   ],
   "source": [
    "print(Kilimall_pointsort_data['feedback'].value_counts(normalize=True))\n",
    "Feedback_rate =  Kilimall_pointsort_data['feedback'].value_counts(normalize=True).plot(kind=\"bar\")\n",
    "for i in Feedback_rate.patches:\n",
    "  Feedback_rate.annotate('{:.1f}'.format(i.get_height()), (i.get_x()+0.25, i.get_height()+0.01))\n",
    "plt.title('Kilimall feedback rate')"
   ]
  },
  {
   "cell_type": "code",
   "execution_count": 173,
   "id": "17bbc41d",
   "metadata": {},
   "outputs": [
    {
     "name": "stdout",
     "output_type": "stream",
     "text": [
      "positive feedback    701\n",
      "negative feedback    251\n",
      "neutral feedback      48\n",
      "Name: feedback, dtype: int64\n"
     ]
    },
    {
     "data": {
      "image/png": "[encoded data removed]",
      "text/plain": [
       "<Figure size 640x480 with 1 Axes>"
      ]
     },
     "metadata": {},
     "output_type": "display_data"
    }
   ],
   "source": [
    "print(Kilimall_pointsort_data['feedback'].value_counts())\n",
    "Feedback_value = sns.countplot(x='feedback', data = Kilimall_pointsort_data)\n",
    "for i in Feedback_value.patches:\n",
    "  Feedback_value.annotate('{:.1f}'.format(i.get_height()), (i.get_x()+0.25, i.get_height()+0.01))\n",
    "plt.title('Kilimall feedback count');"
   ]
  },
  {
   "cell_type": "markdown",
   "id": "0f71f0a1",
   "metadata": {},
   "source": [
    "##### Notes On Kilimall Analysis - to be completed\n",
    "1. Which online store (Jumia, Kilimall, or Jiji) has the highest positive sentiment from customers based on recent reviews?\n",
    "2. What are the common pain points or negative experiences reported by users across these platforms?\n",
    "3. Which features or aspects of online shopping do customers most frequently praise on each platform?\n",
    "4. What actionable insights can be drawn to enhance the functionality and user experience of the new app \"X\" based on customer feedback from existing platforms? "
   ]
  },
  {
   "cell_type": "markdown",
   "id": "329965b9",
   "metadata": {},
   "source": [
    "### JIJI - DATA PREPROCESSING\n",
    "### Lowercasing - this is to maintain consistency of data"
   ]
  },
  {
   "cell_type": "code",
   "execution_count": 174,
   "id": "17f2c06c",
   "metadata": {},
   "outputs": [
    {
     "data": {
      "text/plain": [
       "pandas.core.series.Series"
      ]
     },
     "execution_count": 174,
     "metadata": {},
     "output_type": "execute_result"
    }
   ],
   "source": [
    "# check data type of content and change to str\n",
    "type(Jiji_pointsort_data[\"content\"])\n"
   ]
  },
  {
   "cell_type": "code",
   "execution_count": 175,
   "id": "9d585115",
   "metadata": {},
   "outputs": [
    {
     "name": "stdout",
     "output_type": "stream",
     "text": [
      "327                     Definitely the best shopping app\n",
      "653                   Best e-commerce platform in Kenya.\n",
      "21     Not good at all even after paying for it so th...\n",
      "648                                 great app i love it.\n",
      "193    It is possible to get ads and advertise your p...\n",
      "647                             It's good and convenient\n",
      "196                             It's faster and reliable\n",
      "608              Connect people help in customer connect\n",
      "141    jiji has been a great app for me from purchasi...\n",
      "231    Good would like fair deal we need to move with...\n",
      "22     User friendly and functional. Plus it delivers...\n",
      "62     It always gives the best platform for anyone t...\n",
      "233    Great system of allowing small businesses to s...\n",
      "651                             Nice with real customers\n",
      "341    I've had an amazing experience at jiji so far....\n",
      "889                   Efficient App for purchasing items\n",
      "162       A reliable shopping app with amazing products.\n",
      "671                   Getting clients is within a snap 💯\n",
      "361                       The best online shopping site!\n",
      "199                      Reliable and easy to work with.\n",
      "Name: content, dtype: object\n"
     ]
    }
   ],
   "source": [
    "#convert to str\n",
    "Jiji_pointsort_data['content'] = Jiji_pointsort_data['content'].astype(str)\n",
    "print(Jiji_pointsort_data['content'].head(20))  "
   ]
  },
  {
   "cell_type": "code",
   "execution_count": 176,
   "id": "7e5ac4dc",
   "metadata": {},
   "outputs": [
    {
     "name": "stdout",
     "output_type": "stream",
     "text": [
      "327                     definitely the best shopping app\n",
      "653                   best e-commerce platform in kenya.\n",
      "21     not good at all even after paying for it so th...\n",
      "648                                 great app i love it.\n",
      "193    it is possible to get ads and advertise your p...\n",
      "Name: content, dtype: object\n"
     ]
    }
   ],
   "source": [
    "#Lowercase all reviews\n",
    "\n",
    "Jiji_pointsort_data['content'] = Jiji_pointsort_data['content'].apply(lambda x: x.lower())\n",
    "print(Jiji_pointsort_data['content'].head()) \n",
    "\n",
    "# Most of the reviews are already in lowercase so can see the difference if we look at the whole dataset.\n"
   ]
  },
  {
   "cell_type": "markdown",
   "id": "e80ac1f6",
   "metadata": {},
   "source": [
    "### Emojis"
   ]
  },
  {
   "cell_type": "code",
   "execution_count": 177,
   "id": "686015de",
   "metadata": {},
   "outputs": [
    {
     "name": "stdout",
     "output_type": "stream",
     "text": [
      "True\n",
      "best for online purchases..\n"
     ]
    }
   ],
   "source": [
    "#check if there is any special character\n",
    "alphabet = string.ascii_letters+string.punctuation\n",
    "print(Jiji_pointsort_data.content.str.strip(alphabet).astype(bool).any())\n",
    "\n",
    "extracted_emojis=[]\n",
    "\n",
    "def extract_emojis(s):\n",
    "  expe = re.compile('[\\U00010000-\\U0010ffff]', flags=re.UNICODE)\n",
    "  #return expe.findall(s)\n",
    "  return expe.sub(r'',s)\n",
    "\n",
    "\n",
    "for i in Jiji_pointsort_data['content']:\n",
    "  #print(str(extract_emojis(y)))\n",
    "  extracted_emojis.append(str(extract_emojis(i)))\n",
    "\n",
    "print(extracted_emojis[100])    "
   ]
  },
  {
   "cell_type": "markdown",
   "id": "a862e6c0",
   "metadata": {},
   "source": [
    "### Stopwords"
   ]
  },
  {
   "cell_type": "code",
   "execution_count": 178,
   "id": "6f63ac79",
   "metadata": {},
   "outputs": [
    {
     "name": "stdout",
     "output_type": "stream",
     "text": [
      "327                     definitely the best shopping app\n",
      "653                   best e-commerce platform in kenya.\n",
      "21     not good at all even after paying for it so th...\n",
      "648                                 great app i love it.\n",
      "193    it is possible to get ads and advertise your p...\n",
      "Name: extracted_emojis, dtype: object\n"
     ]
    }
   ],
   "source": [
    "# removing stop words\n",
    "stop_words = stopwords.words('english')\n",
    "Jiji_pointsort_data[\"extracted_emojis\"] = extracted_emojis\n",
    "Jiji_pointsort_data[\"extracted_emojis\"] = Jiji_pointsort_data[\"extracted_emojis\"].apply(lambda x:x if x not in stop_words else None)\n",
    "print(Jiji_pointsort_data['extracted_emojis'].head())"
   ]
  },
  {
   "cell_type": "markdown",
   "id": "9cc28b77",
   "metadata": {},
   "source": [
    "### Stemming"
   ]
  },
  {
   "cell_type": "code",
   "execution_count": 179,
   "id": "80e7fd3b",
   "metadata": {},
   "outputs": [
    {
     "name": "stdout",
     "output_type": "stream",
     "text": [
      "327                     definitely the best shopping app\n",
      "653                   best e-commerce platform in kenya.\n",
      "21     not good at all even after paying for it so th...\n",
      "648                                 great app i love it.\n",
      "193    it is possible to get ads and advertise your p...\n",
      "Name: extracted_emojis, dtype: object\n"
     ]
    }
   ],
   "source": [
    "from nltk.stem.snowball import PorterStemmer\n",
    "#stemming\n",
    "def stemming(x):\n",
    "  st = PorterStemmer()\n",
    "  if x is not None:\n",
    "    for word in x.split():\n",
    "      st.stem(word)\n",
    "\n",
    "Jiji_pointsort_data['extracted_emojis'].apply(lambda x: stemming(x))\n",
    "print(Jiji_pointsort_data['extracted_emojis'].head())      \n",
    "     "
   ]
  },
  {
   "cell_type": "markdown",
   "id": "4537ffdd",
   "metadata": {},
   "source": [
    "### JIJI SENTIMENT ANALYSIS"
   ]
  },
  {
   "cell_type": "code",
   "execution_count": 180,
   "id": "0445eefe",
   "metadata": {},
   "outputs": [
    {
     "name": "stdout",
     "output_type": "stream",
     "text": [
      "                                      extracted_emojis  \\\n",
      "0    i have liked the app for the longest time beca...   \n",
      "191  i have never been disappointed am working with...   \n",
      "748  you keep closing my free ads and sending me em...   \n",
      "321                        best for online purchases..   \n",
      "685                    i love this app and its genuine   \n",
      "227         best app to reach more potential customers   \n",
      "70   i just like jiji because it does not need many...   \n",
      "228  simply the best for selling and purchasing goo...   \n",
      "692             am just 100 % sure it deserves 5 stars   \n",
      "30   some lag is shown while replying. else it's good.   \n",
      "234        best app to find customers for your product   \n",
      "135  awesome app. got connected with so many people...   \n",
      "980        likes the ease of use plus 100 more things    \n",
      "273  ts a good app ,the customer care are good........   \n",
      "621        bringing real products and well advertising   \n",
      "19   have found this app very useful when purchasin...   \n",
      "\n",
      "                                Sentiment_score  \n",
      "0    (-0.11999999999999997, 0.6433333333333333)  \n",
      "191                  (0.15, 0.6166666666666667)  \n",
      "748                                  (0.4, 0.8)  \n",
      "321                                  (1.0, 0.3)  \n",
      "685                                (0.45, 0.55)  \n",
      "227                                  (0.5, 0.6)  \n",
      "70                                   (0.5, 0.5)  \n",
      "228                  (0.5, 0.32857142857142857)  \n",
      "692                   (0.5, 0.8888888888888888)  \n",
      "30                    (0.7, 0.6000000000000001)  \n",
      "234                                  (1.0, 0.3)  \n",
      "135    (0.7333333333333334, 0.7999999999999999)  \n",
      "980                                  (0.5, 0.5)  \n",
      "273                                 (0.75, 0.8)  \n",
      "621                  (0.2, 0.30000000000000004)  \n",
      "19                (0.44125000000000003, 0.3875)  \n"
     ]
    }
   ],
   "source": [
    "#Function to calculate sentiment score for whole data set\n",
    "\n",
    "def senti_sc(x):\n",
    "    if x is not None:\n",
    "       return TextBlob(x).sentiment\n",
    "Jiji_pointsort_data[\"Sentiment_score\"]= Jiji_pointsort_data[\"extracted_emojis\"].apply(senti_sc)\n",
    "print(Jiji_pointsort_data.loc[0:19,['extracted_emojis','Sentiment_score']])\n",
    "\n"
   ]
  },
  {
   "cell_type": "code",
   "execution_count": 181,
   "id": "f234bc0b",
   "metadata": {},
   "outputs": [
    {
     "data": {
      "text/plain": [
       "Sentiment(polarity=-0.11999999999999997, subjectivity=0.6433333333333333)"
      ]
     },
     "execution_count": 181,
     "metadata": {},
     "output_type": "execute_result"
    }
   ],
   "source": [
    "#for i in \n",
    "Jiji_pointsort_data['Sentiment_score'][0]"
   ]
  },
  {
   "cell_type": "code",
   "execution_count": 184,
   "id": "0d1df59f",
   "metadata": {},
   "outputs": [],
   "source": [
    "from textblob.en import subjectivity\n",
    "polarity=[]\n",
    "subjectivity = []\n",
    "for i in Jiji_pointsort_data['extracted_emojis'].values:\n",
    "  try:\n",
    "    analysis = TextBlob(i)\n",
    "    polarity.append(analysis.sentiment.polarity)\n",
    "    subjectivity.append(analysis.sentiment.subjectivity)\n",
    "    \n",
    "  except:\n",
    "     polarity.append(0)\n",
    "     subjectivity.append(0) "
   ]
  },
  {
   "cell_type": "code",
   "execution_count": 185,
   "id": "e1d11290",
   "metadata": {},
   "outputs": [],
   "source": [
    "Jiji_pointsort_data['polarity'] = polarity\n",
    "Jiji_pointsort_data['subjectivity'] = subjectivity\n"
   ]
  },
  {
   "cell_type": "code",
   "execution_count": 186,
   "id": "f0fbe1a4",
   "metadata": {},
   "outputs": [
    {
     "name": "stderr",
     "output_type": "stream",
     "text": [
      "C:\\Users\\HP\\AppData\\Local\\Temp\\ipykernel_2248\\4090279945.py:5: UserWarning: Boolean Series key will be reindexed to match DataFrame index.\n",
      "  Jiji_pointsort_data[Jumia_pointsort_data.polarity>0].head(10)\n"
     ]
    },
    {
     "data": {
      "text/html": [
       "<div>\n",
       "<style scoped>\n",
       "    .dataframe tbody tr th:only-of-type {\n",
       "        vertical-align: middle;\n",
       "    }\n",
       "\n",
       "    .dataframe tbody tr th {\n",
       "        vertical-align: top;\n",
       "    }\n",
       "\n",
       "    .dataframe thead th {\n",
       "        text-align: right;\n",
       "    }\n",
       "</style>\n",
       "<table border=\"1\" class=\"dataframe\">\n",
       "  <thead>\n",
       "    <tr style=\"text-align: right;\">\n",
       "      <th></th>\n",
       "      <th>content</th>\n",
       "      <th>reviewCreatedVersion</th>\n",
       "      <th>score</th>\n",
       "      <th>at</th>\n",
       "      <th>thumbsUpCount</th>\n",
       "      <th>extracted_emojis</th>\n",
       "      <th>Sentiment_score</th>\n",
       "      <th>polarity</th>\n",
       "      <th>subjectivity</th>\n",
       "      <th>feedback</th>\n",
       "    </tr>\n",
       "  </thead>\n",
       "  <tbody>\n",
       "    <tr>\n",
       "      <th>327</th>\n",
       "      <td>definitely the best shopping app</td>\n",
       "      <td>4.10.2.3</td>\n",
       "      <td>5</td>\n",
       "      <td>2024-11-15 20:10:01</td>\n",
       "      <td>0</td>\n",
       "      <td>definitely the best shopping app</td>\n",
       "      <td>(0.5, 0.4)</td>\n",
       "      <td>0.500</td>\n",
       "      <td>0.40000</td>\n",
       "      <td>positive feedback</td>\n",
       "    </tr>\n",
       "    <tr>\n",
       "      <th>653</th>\n",
       "      <td>best e-commerce platform in kenya.</td>\n",
       "      <td>4.10.2.3</td>\n",
       "      <td>5</td>\n",
       "      <td>2024-11-15 15:00:29</td>\n",
       "      <td>0</td>\n",
       "      <td>best e-commerce platform in kenya.</td>\n",
       "      <td>(1.0, 0.3)</td>\n",
       "      <td>1.000</td>\n",
       "      <td>0.30000</td>\n",
       "      <td>positive feedback</td>\n",
       "    </tr>\n",
       "    <tr>\n",
       "      <th>648</th>\n",
       "      <td>great app i love it.</td>\n",
       "      <td>4.10.2.3</td>\n",
       "      <td>5</td>\n",
       "      <td>2024-11-14 20:11:14</td>\n",
       "      <td>0</td>\n",
       "      <td>great app i love it.</td>\n",
       "      <td>(0.65, 0.675)</td>\n",
       "      <td>0.650</td>\n",
       "      <td>0.67500</td>\n",
       "      <td>positive feedback</td>\n",
       "    </tr>\n",
       "    <tr>\n",
       "      <th>193</th>\n",
       "      <td>it is possible to get ads and advertise your p...</td>\n",
       "      <td>4.10.2.3</td>\n",
       "      <td>5</td>\n",
       "      <td>2024-11-14 19:57:55</td>\n",
       "      <td>0</td>\n",
       "      <td>it is possible to get ads and advertise your p...</td>\n",
       "      <td>(0.0, 1.0)</td>\n",
       "      <td>0.000</td>\n",
       "      <td>1.00000</td>\n",
       "      <td>neutral feedback</td>\n",
       "    </tr>\n",
       "    <tr>\n",
       "      <th>647</th>\n",
       "      <td>it's good and convenient</td>\n",
       "      <td>4.10.2.3</td>\n",
       "      <td>5</td>\n",
       "      <td>2024-11-14 19:57:14</td>\n",
       "      <td>0</td>\n",
       "      <td>it's good and convenient</td>\n",
       "      <td>(0.7, 0.6000000000000001)</td>\n",
       "      <td>0.700</td>\n",
       "      <td>0.60000</td>\n",
       "      <td>positive feedback</td>\n",
       "    </tr>\n",
       "    <tr>\n",
       "      <th>231</th>\n",
       "      <td>good would like fair deal we need to move with...</td>\n",
       "      <td>4.10.2.3</td>\n",
       "      <td>5</td>\n",
       "      <td>2024-11-13 06:55:14</td>\n",
       "      <td>0</td>\n",
       "      <td>good would like fair deal we need to move with...</td>\n",
       "      <td>(0.475, 0.53125)</td>\n",
       "      <td>0.475</td>\n",
       "      <td>0.53125</td>\n",
       "      <td>positive feedback</td>\n",
       "    </tr>\n",
       "    <tr>\n",
       "      <th>22</th>\n",
       "      <td>user friendly and functional. plus it delivers...</td>\n",
       "      <td>4.10.2.3</td>\n",
       "      <td>5</td>\n",
       "      <td>2024-11-12 18:28:26</td>\n",
       "      <td>0</td>\n",
       "      <td>user friendly and functional. plus it delivers...</td>\n",
       "      <td>(0.375, 0.5)</td>\n",
       "      <td>0.375</td>\n",
       "      <td>0.50000</td>\n",
       "      <td>positive feedback</td>\n",
       "    </tr>\n",
       "    <tr>\n",
       "      <th>62</th>\n",
       "      <td>it always gives the best platform for anyone t...</td>\n",
       "      <td>4.10.2.3</td>\n",
       "      <td>4</td>\n",
       "      <td>2024-11-12 15:48:25</td>\n",
       "      <td>0</td>\n",
       "      <td>it always gives the best platform for anyone t...</td>\n",
       "      <td>(1.0, 0.3)</td>\n",
       "      <td>1.000</td>\n",
       "      <td>0.30000</td>\n",
       "      <td>positive feedback</td>\n",
       "    </tr>\n",
       "    <tr>\n",
       "      <th>651</th>\n",
       "      <td>nice with real customers</td>\n",
       "      <td>4.10.2.3</td>\n",
       "      <td>5</td>\n",
       "      <td>2024-11-11 20:24:12</td>\n",
       "      <td>0</td>\n",
       "      <td>nice with real customers</td>\n",
       "      <td>(0.4, 0.65)</td>\n",
       "      <td>0.400</td>\n",
       "      <td>0.65000</td>\n",
       "      <td>positive feedback</td>\n",
       "    </tr>\n",
       "    <tr>\n",
       "      <th>889</th>\n",
       "      <td>efficient app for purchasing items</td>\n",
       "      <td>4.9.0.2</td>\n",
       "      <td>5</td>\n",
       "      <td>2024-11-09 09:39:34</td>\n",
       "      <td>0</td>\n",
       "      <td>efficient app for purchasing items</td>\n",
       "      <td>(0.0, 0.0)</td>\n",
       "      <td>0.000</td>\n",
       "      <td>0.00000</td>\n",
       "      <td>neutral feedback</td>\n",
       "    </tr>\n",
       "  </tbody>\n",
       "</table>\n",
       "</div>"
      ],
      "text/plain": [
       "                                               content reviewCreatedVersion  \\\n",
       "327                   definitely the best shopping app             4.10.2.3   \n",
       "653                 best e-commerce platform in kenya.             4.10.2.3   \n",
       "648                               great app i love it.             4.10.2.3   \n",
       "193  it is possible to get ads and advertise your p...             4.10.2.3   \n",
       "647                           it's good and convenient             4.10.2.3   \n",
       "231  good would like fair deal we need to move with...             4.10.2.3   \n",
       "22   user friendly and functional. plus it delivers...             4.10.2.3   \n",
       "62   it always gives the best platform for anyone t...             4.10.2.3   \n",
       "651                           nice with real customers             4.10.2.3   \n",
       "889                 efficient app for purchasing items              4.9.0.2   \n",
       "\n",
       "     score                  at  thumbsUpCount  \\\n",
       "327      5 2024-11-15 20:10:01              0   \n",
       "653      5 2024-11-15 15:00:29              0   \n",
       "648      5 2024-11-14 20:11:14              0   \n",
       "193      5 2024-11-14 19:57:55              0   \n",
       "647      5 2024-11-14 19:57:14              0   \n",
       "231      5 2024-11-13 06:55:14              0   \n",
       "22       5 2024-11-12 18:28:26              0   \n",
       "62       4 2024-11-12 15:48:25              0   \n",
       "651      5 2024-11-11 20:24:12              0   \n",
       "889      5 2024-11-09 09:39:34              0   \n",
       "\n",
       "                                      extracted_emojis  \\\n",
       "327                   definitely the best shopping app   \n",
       "653                 best e-commerce platform in kenya.   \n",
       "648                               great app i love it.   \n",
       "193  it is possible to get ads and advertise your p...   \n",
       "647                           it's good and convenient   \n",
       "231  good would like fair deal we need to move with...   \n",
       "22   user friendly and functional. plus it delivers...   \n",
       "62   it always gives the best platform for anyone t...   \n",
       "651                           nice with real customers   \n",
       "889                 efficient app for purchasing items   \n",
       "\n",
       "               Sentiment_score  polarity  subjectivity           feedback  \n",
       "327                 (0.5, 0.4)     0.500       0.40000  positive feedback  \n",
       "653                 (1.0, 0.3)     1.000       0.30000  positive feedback  \n",
       "648              (0.65, 0.675)     0.650       0.67500  positive feedback  \n",
       "193                 (0.0, 1.0)     0.000       1.00000   neutral feedback  \n",
       "647  (0.7, 0.6000000000000001)     0.700       0.60000  positive feedback  \n",
       "231           (0.475, 0.53125)     0.475       0.53125  positive feedback  \n",
       "22                (0.375, 0.5)     0.375       0.50000  positive feedback  \n",
       "62                  (1.0, 0.3)     1.000       0.30000  positive feedback  \n",
       "651                (0.4, 0.65)     0.400       0.65000  positive feedback  \n",
       "889                 (0.0, 0.0)     0.000       0.00000   neutral feedback  "
      ]
     },
     "execution_count": 186,
     "metadata": {},
     "output_type": "execute_result"
    }
   ],
   "source": [
    "conditions = [(Jiji_pointsort_data['polarity'] < 0),(Jiji_pointsort_data['polarity'] == 0),(Jiji_pointsort_data['polarity'] > 0)]\n",
    "values = ['negative feedback', 'neutral feedback', 'positive feedback']\n",
    "Jiji_pointsort_data['feedback'] = np.select(conditions,values)\n",
    "\n",
    "Jiji_pointsort_data[Jumia_pointsort_data.polarity>0].head(10)"
   ]
  },
  {
   "cell_type": "markdown",
   "id": "4a929971",
   "metadata": {},
   "source": [
    "#### What are the main issues or complaints highlighted by customers in their negative feedback?"
   ]
  },
  {
   "cell_type": "code",
   "execution_count": 187,
   "id": "43f55ee6",
   "metadata": {},
   "outputs": [
    {
     "data": {
      "text/html": [
       "<div>\n",
       "<style scoped>\n",
       "    .dataframe tbody tr th:only-of-type {\n",
       "        vertical-align: middle;\n",
       "    }\n",
       "\n",
       "    .dataframe tbody tr th {\n",
       "        vertical-align: top;\n",
       "    }\n",
       "\n",
       "    .dataframe thead th {\n",
       "        text-align: right;\n",
       "    }\n",
       "</style>\n",
       "<table border=\"1\" class=\"dataframe\">\n",
       "  <thead>\n",
       "    <tr style=\"text-align: right;\">\n",
       "      <th></th>\n",
       "      <th>content</th>\n",
       "      <th>reviewCreatedVersion</th>\n",
       "      <th>score</th>\n",
       "      <th>at</th>\n",
       "      <th>thumbsUpCount</th>\n",
       "      <th>extracted_emojis</th>\n",
       "      <th>Sentiment_score</th>\n",
       "      <th>polarity</th>\n",
       "      <th>subjectivity</th>\n",
       "      <th>feedback</th>\n",
       "    </tr>\n",
       "  </thead>\n",
       "  <tbody>\n",
       "    <tr>\n",
       "      <th>117</th>\n",
       "      <td>reliable only for a few frauds here and there ...</td>\n",
       "      <td>4.10.2.3</td>\n",
       "      <td>4</td>\n",
       "      <td>2024-10-25 08:26:25</td>\n",
       "      <td>0</td>\n",
       "      <td>reliable only for a few frauds here and there ...</td>\n",
       "      <td>(-0.1, 0.55)</td>\n",
       "      <td>-0.10</td>\n",
       "      <td>0.550000</td>\n",
       "      <td>negative feedback</td>\n",
       "    </tr>\n",
       "    <tr>\n",
       "      <th>829</th>\n",
       "      <td>a lot of fake customers</td>\n",
       "      <td>4.10.1.0</td>\n",
       "      <td>5</td>\n",
       "      <td>2024-10-13 13:46:04</td>\n",
       "      <td>0</td>\n",
       "      <td>a lot of fake customers</td>\n",
       "      <td>(-0.5, 1.0)</td>\n",
       "      <td>-0.50</td>\n",
       "      <td>1.000000</td>\n",
       "      <td>negative feedback</td>\n",
       "    </tr>\n",
       "    <tr>\n",
       "      <th>0</th>\n",
       "      <td>i have liked the app for the longest time beca...</td>\n",
       "      <td>4.10.1.0</td>\n",
       "      <td>2</td>\n",
       "      <td>2024-10-01 06:59:03</td>\n",
       "      <td>0</td>\n",
       "      <td>i have liked the app for the longest time beca...</td>\n",
       "      <td>(-0.11999999999999997, 0.6433333333333333)</td>\n",
       "      <td>-0.12</td>\n",
       "      <td>0.643333</td>\n",
       "      <td>negative feedback</td>\n",
       "    </tr>\n",
       "    <tr>\n",
       "      <th>264</th>\n",
       "      <td>app was okay until i updated. i updated and lo...</td>\n",
       "      <td>None</td>\n",
       "      <td>2</td>\n",
       "      <td>2024-09-18 22:16:28</td>\n",
       "      <td>0</td>\n",
       "      <td>app was okay until i updated. i updated and lo...</td>\n",
       "      <td>(-0.15000000000000002, 0.7)</td>\n",
       "      <td>-0.15</td>\n",
       "      <td>0.700000</td>\n",
       "      <td>negative feedback</td>\n",
       "    </tr>\n",
       "    <tr>\n",
       "      <th>186</th>\n",
       "      <td>jiji is the place where you'll quality stuff w...</td>\n",
       "      <td>4.10.0.0</td>\n",
       "      <td>5</td>\n",
       "      <td>2024-09-10 18:37:51</td>\n",
       "      <td>0</td>\n",
       "      <td>jiji is the place where you'll quality stuff w...</td>\n",
       "      <td>(-0.75, 0.75)</td>\n",
       "      <td>-0.75</td>\n",
       "      <td>0.750000</td>\n",
       "      <td>negative feedback</td>\n",
       "    </tr>\n",
       "  </tbody>\n",
       "</table>\n",
       "</div>"
      ],
      "text/plain": [
       "                                               content reviewCreatedVersion  \\\n",
       "117  reliable only for a few frauds here and there ...             4.10.2.3   \n",
       "829                            a lot of fake customers             4.10.1.0   \n",
       "0    i have liked the app for the longest time beca...             4.10.1.0   \n",
       "264  app was okay until i updated. i updated and lo...                 None   \n",
       "186  jiji is the place where you'll quality stuff w...             4.10.0.0   \n",
       "\n",
       "     score                  at  thumbsUpCount  \\\n",
       "117      4 2024-10-25 08:26:25              0   \n",
       "829      5 2024-10-13 13:46:04              0   \n",
       "0        2 2024-10-01 06:59:03              0   \n",
       "264      2 2024-09-18 22:16:28              0   \n",
       "186      5 2024-09-10 18:37:51              0   \n",
       "\n",
       "                                      extracted_emojis  \\\n",
       "117  reliable only for a few frauds here and there ...   \n",
       "829                            a lot of fake customers   \n",
       "0    i have liked the app for the longest time beca...   \n",
       "264  app was okay until i updated. i updated and lo...   \n",
       "186  jiji is the place where you'll quality stuff w...   \n",
       "\n",
       "                                Sentiment_score  polarity  subjectivity  \\\n",
       "117                                (-0.1, 0.55)     -0.10      0.550000   \n",
       "829                                 (-0.5, 1.0)     -0.50      1.000000   \n",
       "0    (-0.11999999999999997, 0.6433333333333333)     -0.12      0.643333   \n",
       "264                 (-0.15000000000000002, 0.7)     -0.15      0.700000   \n",
       "186                               (-0.75, 0.75)     -0.75      0.750000   \n",
       "\n",
       "              feedback  \n",
       "117  negative feedback  \n",
       "829  negative feedback  \n",
       "0    negative feedback  \n",
       "264  negative feedback  \n",
       "186  negative feedback  "
      ]
     },
     "execution_count": 187,
     "metadata": {},
     "output_type": "execute_result"
    }
   ],
   "source": [
    "subject_matter = Jiji_pointsort_data[Jiji_pointsort_data.subjectivity>0.5]\n",
    "negative_subject_matter = subject_matter[subject_matter.polarity < 0]\n",
    "negative_subject_matter.head()"
   ]
  },
  {
   "cell_type": "code",
   "execution_count": 188,
   "id": "1d002a90",
   "metadata": {},
   "outputs": [
    {
     "name": "stdout",
     "output_type": "stream",
     "text": [
      "positive feedback    0.715\n",
      "negative feedback    0.220\n",
      "neutral feedback     0.065\n",
      "Name: feedback, dtype: float64\n"
     ]
    },
    {
     "data": {
      "text/plain": [
       "Text(0.5, 1.0, 'Jiji feedback rate')"
      ]
     },
     "execution_count": 188,
     "metadata": {},
     "output_type": "execute_result"
    },
    {
     "data": {
      "image/png": "[encoded data removed]",
      "text/plain": [
       "<Figure size 640x480 with 1 Axes>"
      ]
     },
     "metadata": {},
     "output_type": "display_data"
    }
   ],
   "source": [
    "print(Jiji_pointsort_data['feedback'].value_counts(normalize=True))\n",
    "Feedback_rate =  Jiji_pointsort_data['feedback'].value_counts(normalize=True).plot(kind=\"bar\")\n",
    "for i in Feedback_rate.patches:\n",
    "  Feedback_rate.annotate('{:.1f}'.format(i.get_height()), (i.get_x()+0.25, i.get_height()+0.01))\n",
    "plt.title('Jiji feedback rate')"
   ]
  },
  {
   "cell_type": "code",
   "execution_count": 189,
   "id": "dfbd3a40",
   "metadata": {},
   "outputs": [
    {
     "name": "stdout",
     "output_type": "stream",
     "text": [
      "positive feedback    715\n",
      "negative feedback    220\n",
      "neutral feedback      65\n",
      "Name: feedback, dtype: int64\n"
     ]
    },
    {
     "data": {
      "image/png": "[encoded data removed]",
      "text/plain": [
       "<Figure size 640x480 with 1 Axes>"
      ]
     },
     "metadata": {},
     "output_type": "display_data"
    }
   ],
   "source": [
    "print(Jiji_pointsort_data['feedback'].value_counts())\n",
    "Feedback_value = sns.countplot(x='feedback', data = Jiji_pointsort_data)\n",
    "for i in Feedback_value.patches:\n",
    "  Feedback_value.annotate('{:.1f}'.format(i.get_height()), (i.get_x()+0.25, i.get_height()+0.01))\n",
    "plt.title('Jiji feedback count');"
   ]
  },
  {
   "cell_type": "markdown",
   "id": "a687af3d",
   "metadata": {},
   "source": [
    "##### Notes On Jiji Analysis - to be completed\n",
    "1. Which online store (Jumia, Kilimall, or Jiji) has the highest positive sentiment from customers based on recent reviews?\n",
    "2. What are the common pain points or negative experiences reported by users across these platforms?\n",
    "3. Which features or aspects of online shopping do customers most frequently praise on each platform?\n",
    "4. What actionable insights can be drawn to enhance the functionality and user experience of the new app \"X\" based on customer feedback from existing platforms? "
   ]
  },
  {
   "cell_type": "markdown",
   "id": "9abce324",
   "metadata": {},
   "source": [
    "#### Reccomendations on App X"
   ]
  },
  {
   "cell_type": "code",
   "execution_count": null,
   "id": "576b5d03",
   "metadata": {},
   "outputs": [],
   "source": []
  },
  {
   "cell_type": "markdown",
   "id": "a28f9ab9",
   "metadata": {},
   "source": [
    "##### Notes\n",
    "*We removed the count of reviews so the code for checking mising data is giving 0 values. I couldn'nt figure out a way of making  the data start from a specific standard date for all the three stores.\n",
    "*setting the sentiment score of Jumia returns an empty data set in th sentiment analysis\n",
    "*The output data after sentiment analysis is kinda misleading some reviews are clealy negative but the analysis says they are positive and vice versa.\n",
    "\n",
    "##### code we never used\n",
    "\n",
    "Example: Assuming Jumia_pointsort_data contains 'reviewCreatedVersion' and frequency data\n",
    "\n",
    "version_counts = Jumia_pointsort_data['reviewCreatedVersion'].value_counts()\n",
    "                           \n",
    "plt.bar(version_counts.index, version_counts.values)\n",
    "plt.xlabel(\"Version Review\")\n",
    "plt.ylabel(\"Frequency\")\n",
    "plt.title(\"Jumia Score Review Bar Chart\")\n",
    "plt.xticks(rotation=45)  # Rotate x-axis labels if they overlap\n",
    "plt.tight_layout()       # Adjust layout for better fit\n",
    "plt.show()Jumia.Jumia_pointsort_data['reviewCreatedVersion'.nunique(dropna=True)"
   ]
  },
  {
   "cell_type": "code",
   "execution_count": null,
   "id": "37652935",
   "metadata": {},
   "outputs": [],
   "source": [
    "\n",
    "# Plot histograms for each app\n",
    "plt.hist(Jumia_pointsort_data['score'], bins=5, alpha=0.7, label='Jumia', color='blue', edgecolor='black')\n",
    "plt.hist(Kilimall_pointsort_data['score'], bins=5, alpha=0.7, label='Kilimall', color='green', edgecolor='black')\n",
    "plt.hist(Jiji_pointsort_data['score'], bins=5, alpha=0.7, label='Jiji', color='red', edgecolor='black')\n",
    "\n",
    "# Add labels, title, and legend\n",
    "plt.xlabel('Score review')\n",
    "plt.ylabel('Frequency')\n",
    "plt.title('Comparison of App Reviews')\n",
    "plt.legend(loc='upper right')\n",
    "\n",
    "# Display the plot\n",
    "plt.show()"
   ]
  },
  {
   "cell_type": "code",
   "execution_count": null,
   "id": "dce582fa",
   "metadata": {},
   "outputs": [],
   "source": [
    "**** I thought a grouped bar chart would make more sense but I couldn't figure a way of improving this code.\n",
    "\n",
    "\n",
    "# Create bar positions\n",
    "score = ['1 Star', '2 Stars', '3 Stars', '4 Stars', '5 Stars'] \n",
    "x = np.arange(len('score'))  # Correctly use the length of the ratings list\n",
    "width = 0.25  # Width of each bar\n",
    "\n",
    "# Plot grouped bars7 plt.bar(x - width, Jumia_pointsort_data, width, label='Jumia', color='blue')\n",
    "plt.bar(x - width, Jumia_pointsort_data, width, label='Jumia', color='blue')\n",
    "plt.bar(x, Kilimall_pointsort_data, width, label='Kilimall', color='green')\n",
    "plt.bar(x + width, Jiji_pointsort_data, width, label='Jiji', color='red')\n",
    "\n",
    "# Add labels, title, and legend\n",
    "plt.xlabel('Score review')\n",
    "plt.ylabel('Frequency')\n",
    "plt.title('Comparison of App Reviews')\n",
    "plt.xticks(x, score)  # Use the ratings list for x-axis labels\n",
    "plt.legend()\n",
    "\n",
    "# Display the chart\n",
    "plt.show()\n"
   ]
  }
 ],
 "metadata": {
  "kernelspec": {
   "display_name": "Python 3 (ipykernel)",
   "language": "python",
   "name": "python3"
  },
  "language_info": {
   "codemirror_mode": {
    "name": "ipython",
    "version": 3
   },
   "file_extension": ".py",
   "mimetype": "text/x-python",
   "name": "python",
   "nbconvert_exporter": "python",
   "pygments_lexer": "ipython3",
   "version": "3.10.9"
  }
 },
 "nbformat": 4,
 "nbformat_minor": 5
}
